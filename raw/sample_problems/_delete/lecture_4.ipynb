{
 "cells": [
  {
   "cell_type": "raw",
   "id": "3b2f07f0",
   "metadata": {},
   "source": [
    "---\n",
    "title: \"L4 examples\"\n",
    "format:\n",
    "    html:\n",
    "        code-fold: true\n",
    "jupyter: python3\n",
    "fontsize: 1.2em\n",
    "linestretch: 1.5\n",
    "toc: true\n",
    "notebook-view: true\n",
    "---"
   ]
  },
  {
   "cell_type": "code",
   "execution_count": 2,
   "id": "e0150156",
   "metadata": {},
   "outputs": [],
   "source": [
    "import numpy as np \n",
    "from scipy.stats import bernoulli, binom, expon\n",
    "import matplotlib.pyplot as plt\n",
    "import seaborn as sns\n",
    "from scipy.special import comb\n",
    "sns.set(font_scale=1.0)\n",
    "sns.set_style(\"white\")\n",
    "sns.set_style(\"ticks\")\n",
    "palette = sns.color_palette('deep')"
   ]
  },
  {
   "cell_type": "markdown",
   "id": "d4ff30f9",
   "metadata": {},
   "source": [
    "## Problem 1\n",
    "\n",
    "Find the probability density function of $Y = h \\left( X \\right) = X^2$, for any $y > 0$, where $X$ is a continuous random variable with a known probability density function. "
   ]
  },
  {
   "cell_type": "markdown",
   "id": "fc584260",
   "metadata": {},
   "source": [
    "<details>\n",
    "<summary>Solution</summary> \n",
    "\n",
    "    \n",
    "For $y > 0$ we have\n",
    "\n",
    "$$\n",
    "F_Y \\left( y \\right) = p \\left( Y \\leq y \\right) = p \\left( X^2 \\leq y \\right) = p \\left( - \\sqrt{y} \\leq X \\leq \\sqrt{y} \\right)\n",
    "$$\n",
    "\n",
    "$$\n",
    "\\Rightarrow F_Y \\left( y \\right) = F_{X} \\left( \\sqrt{y} \\right) - F_{X} \\left( - \\sqrt{y} \\right) \n",
    "$$\n",
    "\n",
    "Thus, by differentiating and applying the chain rule we have\n",
    "\n",
    "$$\n",
    "f_{Y} \\left( y \\right) = \\frac{1}{2\\sqrt{y}} f_{X} \\left( \\sqrt{y} \\right) + \\frac{1}{2 \\sqrt{y}} f_{X} \\left( - \\sqrt{y} \\right), \\; \\; \\; \\; y > 0 \n",
    "$$\n",
    "    \n",
    "</details>"
   ]
  },
  {
   "cell_type": "markdown",
   "id": "6476cf13",
   "metadata": {},
   "source": [
    "## Problem 2\n",
    "\n",
    "Find the probability density function of $Y = exp \\left( X^2 \\right)$ if $X$ is a non-negative random variable. "
   ]
  },
  {
   "cell_type": "markdown",
   "id": "4d244eb3",
   "metadata": {},
   "source": [
    "<details>\n",
    "<summary>Solution</summary> \n",
    "\n",
    "    \n",
    "Note that $F_Y \\left( y \\right) = 0$ for $y < 1$. For $y \\geq 1$, we have\n",
    "\n",
    "$$\n",
    "F_{Y} \\left( y \\right) = p \\left(exp \\left(X^2 \\right) \\leq y \\right) = p \\left(X^2 \\leq log \\left( y \\right) \\right) \n",
    "$$\n",
    "\n",
    "$$\n",
    "\\Rightarrow F_{Y} = p \\left( X \\leq \\sqrt{log \\left( y \\right) } \\right).\n",
    "$$\n",
    "\n",
    "By differentiating and using the chain rule, we obtain\n",
    "\n",
    "$$\n",
    "f_{Y} \\left( y \\right) = f_{X} \\left( \\sqrt{log \\left( y \\right) } \\right) \\frac{1}{2y \\sqrt{log \\left( y \\right) } }, \\; \\; \\; y > 1.\n",
    "$$\n",
    "    \n",
    "</details>"
   ]
  },
  {
   "cell_type": "code",
   "execution_count": 3,
   "id": "ee4afaf9",
   "metadata": {},
   "outputs": [
    {
     "data": {
      "image/png": "[encoded data removed]",
      "text/plain": [
       "<Figure size 1000x300 with 2 Axes>"
      ]
     },
     "metadata": {},
     "output_type": "display_data"
    }
   ],
   "source": [
    "lam = 1.\n",
    "X = expon.rvs(size=15000, scale=1/lam)\n",
    "Y = np.sin(X)\n",
    "\n",
    "fig = plt.figure(figsize=(10,3))\n",
    "plt.subplot(121)\n",
    "plt.hist(X,40, density=True, color='crimson')\n",
    "plt.ylabel(r'$f_{X}(x)$')\n",
    "plt.xlabel('x')\n",
    "plt.subplot(122)\n",
    "plt.hist(Y,40, density=True, color='dodgerblue')\n",
    "plt.ylabel(r'$f_{Y}(y)$')\n",
    "plt.xlabel('y')\n",
    "plt.show()"
   ]
  },
  {
   "cell_type": "markdown",
   "id": "3d6c8ed2",
   "metadata": {},
   "source": [
    "## Problem 3\n",
    "\n",
    "Following the bit of code above, let $X$ be an exponential random variable with parameter $\\lambda$, i.e., $f_{X} \\left( x \\right) = \\lambda exp \\left( -\\lambda x \\right)$ and $F_{X} \\left( x \\right) = 1 - exp \\left( -\\lambda x \\right)$. Let $Y= sin\\left( X \\right)$. Determine $F_Y\\left( y \\right)$ and $f_{Y} \\left( y \\right)$. "
   ]
  },
  {
   "cell_type": "markdown",
   "id": "a98d8686",
   "metadata": {},
   "source": [
    "<details>\n",
    "<summary>Solution</summary> \n",
    "    \n",
    "From the event $\\left\\{ Y \\leq y \\right\\}$, we can conclude that for $x = sin^{-1} \\left( y \\right)$ we have\n",
    "\n",
    "\n",
    "$$\n",
    "F_{Y} \\left( y \\right) = p \\left( Y \\leq y \\right)\n",
    "$$\n",
    "\n",
    "$$\n",
    "F_{Y} \\left( y \\right) = p \\left( X \\leq x \\right) + \\sum_{k=1}^{\\infty} \\left[ F_{X} \\left( 2 k \\pi + x \\right) - F_{X} \\left( \\left(2k - 1 \\right) \\pi - x\\right) \\right]\n",
    "$$\n",
    "\n",
    "$$\n",
    "F_{Y} \\left( y \\right) = p \\left( X \\leq x \\right) + \\sum_{k=1}^{\\infty} \\left[  1 - exp\\left( -\\lambda x - 2 \\lambda k \\pi \\right) - 1 + exp \\left( \\lambda x + \\lambda \\pi - 2 \\lambda k \\pi \\right) \\right]\n",
    "$$\n",
    "\n",
    "$$\n",
    "= p \\left( X \\leq x \\right) + \\left[ exp\\left( \\lambda x \\right) exp \\left( \\lambda \\pi \\right) - exp \\left( - \\lambda x \\right) \\right] \\sum_{k=1}^{\\infty}  exp \\left( - 2 \\lambda k \\pi \\right) \n",
    "$$\n",
    "\n",
    "$$\n",
    "= p \\left( X \\leq sin^{-1} \\left( y \\right) \\right) + \\left[ exp \\left( \\lambda sin^{-1} \\left( y \\right) + \\lambda \\pi \\right) - exp \\left( -\\lambda sin^{-1} \\left( y \\right) \\right) \\right] \\frac{exp \\left( -2 \\lambda \\pi \\right) }{1 - exp \\left( -2 \\lambda \\pi \\right)}\n",
    "$$\n",
    "\n",
    "This expansion uses the *sum of a geometric sequence* formula. The first term above is zero for negative $y \\in [-1, 0)$ and \n",
    "\n",
    "$$\n",
    "p \\left( X \\leq sin^{-1} \\left( y \\right) \\right) = F_{X} \\left( sin^{-1} \\left( y \\right) \\right) = 1 - exp(- \\lambda sin^{-1}\\left( y \\right) )\n",
    "$$\n",
    "\n",
    "for non-negative $y \\in [0, 1]$. Since $F_{X} \\left(0\\right) = 0$, the cumulative probability $F_Y\\left( y \\right)$ will remain continuous at $y=0$. However, its derivative is discontinuous and we will be unable to derive an expression for $f_{Y} \\left( 0 \\right)$. Hence, for negative $y \\in [-1, 0)$ we have\n",
    "\n",
    "$$\n",
    "f_{Y} \\left( y \\right) = \\frac{d}{dx} F_{X} \\left( x \\right) \\frac{dx}{dy} = \\frac{\\lambda}{\\sqrt{1 - y^2}} \\frac{exp \\left( \\lambda \\left(sin^{-1} \\left( y \\right) + \\pi \\right) \\right) + exp \\left( -\\lambda sin^{-1} \\left( y \\right) \\right) }{exp \\left( 2 \\lambda \\pi -1 \\right) }.\n",
    "$$\n",
    "\n",
    "For positive $y \\in (0, 1]$, we have\n",
    "\n",
    "$$\n",
    "f_{Y} \\left( y \\right) = \\frac{d}{dx} F_{X} \\left( x \\right) \\frac{dx}{dy} = \\frac{\\lambda}{\\sqrt{1 - y^2}} \\left[ \\frac{exp \\left( \\lambda \\left(sin^{-1} \\left( y \\right) + \\pi \\right) \\right) + exp \\left( -\\lambda sin^{-1} \\left( y \\right) \\right) }{exp \\left( 2 \\lambda \\pi -1 \\right) } + exp \\left( -\\lambda sin^{-1} \\left( y \\right) \\right) \\right].\n",
    "$$\n",
    "\n",
    "</details>"
   ]
  },
  {
   "cell_type": "code",
   "execution_count": 21,
   "id": "af803d03",
   "metadata": {},
   "outputs": [
    {
     "data": {
      "image/png": "[encoded data removed]",
      "text/plain": [
       "<Figure size 600x400 with 1 Axes>"
      ]
     },
     "metadata": {},
     "output_type": "display_data"
    }
   ],
   "source": [
    "x = np.linspace(-2.5, 2.5, 500)\n",
    "y = np.sin(x)\n",
    "\n",
    "def f_y(y):\n",
    "    f_y = np.zeros((y.shape[0]))\n",
    "    for i in range(0, f_y.shape[0]):\n",
    "        if y[i] > 0:\n",
    "            f_y[i] = lam/np.sqrt(1 - y[i]**2) * (np.exp(-lam * np.arcsin(y[i])) \\\n",
    "                        + (np.exp(lam * np.arcsin(y[i]) + lam * np.pi) + \\\n",
    "                          np.exp(-lam * np.arcsin(y[i])))/(np.exp(2 * lam * np.pi) - 1))\n",
    "        else:\n",
    "            f_y[i] = lam/np.sqrt(1 - y[i]**2) * ((np.exp(lam * np.arcsin(y[i]) + lam * np.pi) + \\\n",
    "                          np.exp(-lam * np.arcsin(y[i])))/(np.exp(2 * lam * np.pi) - 1))\n",
    "    return f_y\n",
    "\n",
    "fig = plt.figure(figsize=(6,4))\n",
    "plt.plot(y, f_y(y), color='navy', lw=3)\n",
    "plt.hist(Y,40, density=True, color='dodgerblue')\n",
    "plt.ylabel(r'$f_{Y}(y)$')\n",
    "plt.xlabel('y')\n",
    "plt.ylim([0, 2.7])\n",
    "plt.show()"
   ]
  },
  {
   "cell_type": "markdown",
   "id": "6801382a",
   "metadata": {},
   "source": [
    "## Problem 4\n",
    "\n",
    "Let $X$ and $Y$ be independent and uniform between $0$ and $1$. Compute $X + Y$. To set the stage for the problem, consider the code and plot below. "
   ]
  },
  {
   "cell_type": "code",
   "execution_count": 23,
   "id": "367b29e0",
   "metadata": {},
   "outputs": [
    {
     "data": {
      "image/png": "[encoded data removed]",
      "text/plain": [
       "<Figure size 600x300 with 1 Axes>"
      ]
     },
     "metadata": {},
     "output_type": "display_data"
    }
   ],
   "source": [
    "X = np.random.rand(9000)\n",
    "Y = np.random.rand(9000)\n",
    "S = X + Y \n",
    "\n",
    "fig = plt.figure(figsize=(6,3))\n",
    "plt.hist(X+Y,40, density=True, color='orangered')\n",
    "plt.ylabel(r'$f_{S}(s)$')\n",
    "plt.xlabel('s')\n",
    "plt.show()\n"
   ]
  },
  {
   "cell_type": "markdown",
   "id": "579e3bbf",
   "metadata": {},
   "source": [
    "It appears we have a triangular distribution. In what follows we shall aim to derive this analytically."
   ]
  },
  {
   "cell_type": "markdown",
   "id": "49763aa4",
   "metadata": {},
   "source": [
    "<details>\n",
    "<summary>Solution</summary> \n",
    "\n",
    "From the Lecture notes, we have:\n",
    "    \n",
    "$$\n",
    "f_{S} \\left( s \\right) = \\int_{0}^{1} f_{X} \\left( x \\right) f_{Y} \\left( s - x \\right) dx = \\int_{0}^{1} f_{Y} \\left( s - x \\right) dx\n",
    "$$\n",
    "\n",
    "$$\n",
    "\\Rightarrow f_{S} \\left( s \\right) = \\begin{cases}\n",
    "\\begin{array}{c}\n",
    "\\int_{0}^{s}1dx=s\\\\\n",
    "\\int_{s-1}^{1}1dx=2-s\n",
    "\\end{array} & \\begin{array}{c}\n",
    "\\textrm{for} \\; \\; s \\in [0, 1] \\\\\n",
    "\\textrm{for} \\; \\; s \\in [1, 2]\n",
    "\\end{array}\\end{cases}\n",
    "$$\n",
    "    \n",
    "</details>"
   ]
  },
  {
   "cell_type": "code",
   "execution_count": null,
   "id": "5f434834",
   "metadata": {},
   "outputs": [],
   "source": []
  }
 ],
 "metadata": {
  "kernelspec": {
   "display_name": "Python 3 (ipykernel)",
   "language": "python",
   "name": "python3"
  },
  "language_info": {
   "codemirror_mode": {
    "name": "ipython",
    "version": 3
   },
   "file_extension": ".py",
   "mimetype": "text/x-python",
   "name": "python",
   "nbconvert_exporter": "python",
   "pygments_lexer": "ipython3",
   "version": "3.11.1"
  }
 },
 "nbformat": 4,
 "nbformat_minor": 5
}
