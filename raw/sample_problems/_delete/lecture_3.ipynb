{
 "cells": [
  {
   "cell_type": "raw",
   "id": "3b2f07f0",
   "metadata": {},
   "source": [
    "---\n",
    "title: \"L3 examples\"\n",
    "format:\n",
    "    html:\n",
    "        code-fold: true\n",
    "jupyter: python3\n",
    "fontsize: 1.2em\n",
    "linestretch: 1.5\n",
    "toc: true\n",
    "notebook-view: true\n",
    "---"
   ]
  },
  {
   "cell_type": "markdown",
   "id": "d4ff30f9",
   "metadata": {},
   "source": [
    "## Problem 1\n",
    "\n",
    "In going through some historical records, you find that scientists from a lost civilization tried to measure the distance from the ground to some clouds. Based on the data you assume that the distance is a Gaussian random variable with a mean of 1830m and a standard deviation of 460m. What is the probability that the clouds would actually be at a height of 2750m?"
   ]
  },
  {
   "cell_type": "markdown",
   "id": "6801382a",
   "metadata": {},
   "source": [
    "<details>\n",
    "<summary>Solution</summary> \n",
    "    \n",
    "Let $X$ be this Gaussian random variable. This problem essentially requires us to work out $p \\left( X > 2750 \\right)$. This can be expressed as\n",
    "    \n",
    "$$\n",
    "\\large\n",
    "p \\left(X > 2750 \\right) = 1 - p \\left( X \\leq 2750 \\right) = 1 - \\Phi \\left( z \\right) \n",
    "$$\n",
    "    \n",
    "where $z = (2750 - 1830)/460 = 2$. Thus we have \n",
    "    \n",
    "$$\n",
    "\\large\n",
    "1 - \\Phi \\left( 2 \\right) = 1 - 0.9772 = 0.0228\n",
    "$$\n",
    "</details>"
   ]
  }
 ],
 "metadata": {
  "kernelspec": {
   "display_name": "Python 3 (ipykernel)",
   "language": "python",
   "name": "python3"
  },
  "language_info": {
   "codemirror_mode": {
    "name": "ipython",
    "version": 3
   },
   "file_extension": ".py",
   "mimetype": "text/x-python",
   "name": "python",
   "nbconvert_exporter": "python",
   "pygments_lexer": "ipython3",
   "version": "3.11.1"
  }
 },
 "nbformat": 4,
 "nbformat_minor": 5
}
