{
 "cells": [
  {
   "cell_type": "code",
   "execution_count": 2,
   "id": "52b8c991",
   "metadata": {},
   "outputs": [],
   "source": [
    "from sympy import *"
   ]
  },
  {
   "cell_type": "code",
   "execution_count": 3,
   "id": "cd215420",
   "metadata": {},
   "outputs": [],
   "source": [
    "x = Symbol('x')\n",
    "z = Symbol('z')"
   ]
  },
  {
   "cell_type": "code",
   "execution_count": 4,
   "id": "833fd919",
   "metadata": {},
   "outputs": [],
   "source": [
    "lam = 2\n",
    "mu = 0\n",
    "var = 1"
   ]
  },
  {
   "cell_type": "code",
   "execution_count": 5,
   "id": "be6b6950",
   "metadata": {},
   "outputs": [],
   "source": [
    "y = z - x"
   ]
  },
  {
   "cell_type": "code",
   "execution_count": 6,
   "id": "2d197b83",
   "metadata": {},
   "outputs": [],
   "source": [
    "f_z_minus_x = lam * exp(-lam * y)"
   ]
  },
  {
   "cell_type": "code",
   "execution_count": null,
   "id": "45b5d93d",
   "metadata": {},
   "outputs": [],
   "source": [
    "f_x = "
   ]
  }
 ],
 "metadata": {
  "kernelspec": {
   "display_name": "Python 3 (ipykernel)",
   "language": "python",
   "name": "python3"
  },
  "language_info": {
   "codemirror_mode": {
    "name": "ipython",
    "version": 3
   },
   "file_extension": ".py",
   "mimetype": "text/x-python",
   "name": "python",
   "nbconvert_exporter": "python",
   "pygments_lexer": "ipython3",
   "version": "3.11.1"
  }
 },
 "nbformat": 4,
 "nbformat_minor": 5
}
