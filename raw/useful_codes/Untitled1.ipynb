{
 "cells": [
  {
   "cell_type": "code",
   "execution_count": 1,
   "id": "2a9d939b",
   "metadata": {},
   "outputs": [],
   "source": [
    "import numpy as np\n",
    "import matplotlib.pyplot as plt"
   ]
  },
  {
   "cell_type": "code",
   "execution_count": 2,
   "id": "8b35c8dd",
   "metadata": {},
   "outputs": [],
   "source": [
    "u = np.random.rand(5,1)\n",
    "v = np.random.rand(5,1)"
   ]
  },
  {
   "cell_type": "code",
   "execution_count": 9,
   "id": "93460ccb",
   "metadata": {},
   "outputs": [],
   "source": [
    "M = u @ v.T"
   ]
  },
  {
   "cell_type": "code",
   "execution_count": 13,
   "id": "23a3781e",
   "metadata": {},
   "outputs": [
    {
     "name": "stdout",
     "output_type": "stream",
     "text": [
      "[ 1.65970298e+00 -2.16228166e-16 -2.31803900e-17  1.73512284e-17\n",
      "  1.73512284e-17]\n"
     ]
    }
   ],
   "source": [
    "e, V = np.linalg.eig(M)\n",
    "print(np.real(e))"
   ]
  },
  {
   "cell_type": "code",
   "execution_count": null,
   "id": "8752b094",
   "metadata": {},
   "outputs": [],
   "source": []
  }
 ],
 "metadata": {
  "kernelspec": {
   "display_name": "Python 3 (ipykernel)",
   "language": "python",
   "name": "python3"
  },
  "language_info": {
   "codemirror_mode": {
    "name": "ipython",
    "version": 3
   },
   "file_extension": ".py",
   "mimetype": "text/x-python",
   "name": "python",
   "nbconvert_exporter": "python",
   "pygments_lexer": "ipython3",
   "version": "3.11.1"
  }
 },
 "nbformat": 4,
 "nbformat_minor": 5
}
