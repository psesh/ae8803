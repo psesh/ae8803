{
 "cells": [
  {
   "cell_type": "code",
   "execution_count": 1,
   "id": "9e86423e",
   "metadata": {},
   "outputs": [],
   "source": [
    "import pandas as pd\n",
    "import numpy as np\n",
    "import matplotlib\n",
    "import matplotlib.pyplot as plt\n",
    "from scipy.stats import multivariate_normal\n",
    "from scipy.linalg import cholesky, solve_triangular\n",
    "import seaborn as sns"
   ]
  },
  {
   "cell_type": "code",
   "execution_count": 9,
   "id": "03ae029d",
   "metadata": {},
   "outputs": [],
   "source": [
    "def kernel(xa, xb, amp, ll):\n",
    "    Xa, Xb = get_tiled(xa, xb)\n",
    "    return amp**2 * np.exp(-0.5 * 1./ll**2 * (Xa - Xb)**2 )\n",
    "\n",
    "def get_tiled(xa, xb):\n",
    "    m, n = len(xa), len(xb)\n",
    "    xa, xb = xa.reshape(m,1) , xb.reshape(n,1)\n",
    "    Xa = np.tile(xa, (1, n))\n",
    "    Xb = np.tile(xb.T, (m, 1))\n",
    "    return Xa, Xb\n",
    "\n",
    "def get_posterior(amp, ll, x, x_data, y_data, noise):\n",
    "    u = y_data.shape[0]\n",
    "    mu_y = np.mean(y_data)\n",
    "    y = (y_data - mu_y).reshape(u,1)\n",
    "    Sigma = noise * np.eye(u)\n",
    "    \n",
    "    Kxx = kernel(x_data, x_data, amp, ll)\n",
    "    Kxpx = kernel(x, x_data, amp, ll)\n",
    "    Kxpxp = kernel(x, x, amp, ll)\n",
    "    \n",
    "    # Inverse\n",
    "    jitter = np.eye(u) * 1e-12\n",
    "    L = cholesky(Kxx + Sigma + jitter)\n",
    "    S1 = solve_triangular(L.T, y, lower=True)\n",
    "    S2 = solve_triangular(L.T, Kxpx.T, lower=True).T\n",
    "    \n",
    "    mu = S2 @ S1  + mu_y\n",
    "    cov = Kxpxp - S2 @ S2.T\n",
    "    return mu, cov"
   ]
  },
  {
   "cell_type": "code",
   "execution_count": 10,
   "id": "858bd0dc",
   "metadata": {},
   "outputs": [],
   "source": [
    "X = np.linspace(0, 1, 100)\n",
    "\n",
    "def get_prior(X):\n",
    "    mu = np.zeros_like(X)\n",
    "    cov = kernel(X, X, amp=1.0, ll=1.0)\n",
    "    prior = multivariate_normal(mu, cov, allow_singular=True)\n",
    "    return prior"
   ]
  },
  {
   "cell_type": "code",
   "execution_count": 11,
   "id": "731a5ae1",
   "metadata": {},
   "outputs": [
    {
     "ename": "LinAlgError",
     "evalue": "When `allow_singular is False`, the input matrix must be symmetric positive definite.",
     "output_type": "error",
     "traceback": [
      "\u001b[0;31m---------------------------------------------------------------------------\u001b[0m",
      "\u001b[0;31mLinAlgError\u001b[0m                               Traceback (most recent call last)",
      "Cell \u001b[0;32mIn[11], line 18\u001b[0m\n\u001b[1;32m     16\u001b[0m U4c \u001b[38;5;241m=\u001b[39m np\u001b[38;5;241m.\u001b[39mzeros((G, \u001b[38;5;241m100\u001b[39m))\n\u001b[1;32m     17\u001b[0m \u001b[38;5;28;01mfor\u001b[39;00m j \u001b[38;5;129;01min\u001b[39;00m \u001b[38;5;28mrange\u001b[39m(\u001b[38;5;241m0\u001b[39m, G):\n\u001b[0;32m---> 18\u001b[0m     us \u001b[38;5;241m=\u001b[39m \u001b[43mrandom_sample3\u001b[49m\u001b[43m(\u001b[49m\u001b[43m)\u001b[49m\n\u001b[1;32m     19\u001b[0m     U1c[j,:] \u001b[38;5;241m=\u001b[39m us[\u001b[38;5;241m-\u001b[39m\u001b[38;5;241m4\u001b[39m]\n\u001b[1;32m     20\u001b[0m     U2c[j,:] \u001b[38;5;241m=\u001b[39m us[\u001b[38;5;241m-\u001b[39m\u001b[38;5;241m3\u001b[39m]\n",
      "Cell \u001b[0;32mIn[11], line 2\u001b[0m, in \u001b[0;36mrandom_sample3\u001b[0;34m()\u001b[0m\n\u001b[1;32m      1\u001b[0m \u001b[38;5;28;01mdef\u001b[39;00m \u001b[38;5;21mrandom_sample3\u001b[39m():\n\u001b[0;32m----> 2\u001b[0m     zj_1 \u001b[38;5;241m=\u001b[39m \u001b[43mget_prior\u001b[49m\u001b[43m(\u001b[49m\u001b[43mX\u001b[49m\u001b[43m)\u001b[49m\n\u001b[1;32m      3\u001b[0m     us \u001b[38;5;241m=\u001b[39m []\n\u001b[1;32m      4\u001b[0m     \u001b[38;5;28;01mfor\u001b[39;00m j \u001b[38;5;129;01min\u001b[39;00m \u001b[38;5;28mrange\u001b[39m(\u001b[38;5;241m0\u001b[39m, \u001b[38;5;241m20\u001b[39m):\n",
      "Cell \u001b[0;32mIn[10], line 6\u001b[0m, in \u001b[0;36mget_prior\u001b[0;34m(X)\u001b[0m\n\u001b[1;32m      4\u001b[0m mu \u001b[38;5;241m=\u001b[39m np\u001b[38;5;241m.\u001b[39mzeros_like(X)\n\u001b[1;32m      5\u001b[0m cov \u001b[38;5;241m=\u001b[39m kernel(X, X, amp\u001b[38;5;241m=\u001b[39m\u001b[38;5;241m1.0\u001b[39m, ll\u001b[38;5;241m=\u001b[39m\u001b[38;5;241m1.0\u001b[39m)\n\u001b[0;32m----> 6\u001b[0m prior \u001b[38;5;241m=\u001b[39m \u001b[43mmultivariate_normal\u001b[49m\u001b[43m(\u001b[49m\u001b[43mmu\u001b[49m\u001b[43m,\u001b[49m\u001b[43m \u001b[49m\u001b[43mcov\u001b[49m\u001b[43m,\u001b[49m\u001b[43m \u001b[49m\u001b[43mallow_singular\u001b[49m\u001b[38;5;241;43m=\u001b[39;49m\u001b[38;5;28;43;01mFalse\u001b[39;49;00m\u001b[43m)\u001b[49m\n\u001b[1;32m      7\u001b[0m \u001b[38;5;28;01mreturn\u001b[39;00m prior\n",
      "File \u001b[0;32m/Library/Frameworks/Python.framework/Versions/3.11/lib/python3.11/site-packages/scipy/stats/_multivariate.py:398\u001b[0m, in \u001b[0;36mmultivariate_normal_gen.__call__\u001b[0;34m(self, mean, cov, allow_singular, seed)\u001b[0m\n\u001b[1;32m    393\u001b[0m \u001b[38;5;28;01mdef\u001b[39;00m \u001b[38;5;21m__call__\u001b[39m(\u001b[38;5;28mself\u001b[39m, mean\u001b[38;5;241m=\u001b[39m\u001b[38;5;28;01mNone\u001b[39;00m, cov\u001b[38;5;241m=\u001b[39m\u001b[38;5;241m1\u001b[39m, allow_singular\u001b[38;5;241m=\u001b[39m\u001b[38;5;28;01mFalse\u001b[39;00m, seed\u001b[38;5;241m=\u001b[39m\u001b[38;5;28;01mNone\u001b[39;00m):\n\u001b[1;32m    394\u001b[0m \u001b[38;5;250m    \u001b[39m\u001b[38;5;124;03m\"\"\"Create a frozen multivariate normal distribution.\u001b[39;00m\n\u001b[1;32m    395\u001b[0m \n\u001b[1;32m    396\u001b[0m \u001b[38;5;124;03m    See `multivariate_normal_frozen` for more information.\u001b[39;00m\n\u001b[1;32m    397\u001b[0m \u001b[38;5;124;03m    \"\"\"\u001b[39;00m\n\u001b[0;32m--> 398\u001b[0m     \u001b[38;5;28;01mreturn\u001b[39;00m \u001b[43mmultivariate_normal_frozen\u001b[49m\u001b[43m(\u001b[49m\u001b[43mmean\u001b[49m\u001b[43m,\u001b[49m\u001b[43m \u001b[49m\u001b[43mcov\u001b[49m\u001b[43m,\u001b[49m\n\u001b[1;32m    399\u001b[0m \u001b[43m                                      \u001b[49m\u001b[43mallow_singular\u001b[49m\u001b[38;5;241;43m=\u001b[39;49m\u001b[43mallow_singular\u001b[49m\u001b[43m,\u001b[49m\n\u001b[1;32m    400\u001b[0m \u001b[43m                                      \u001b[49m\u001b[43mseed\u001b[49m\u001b[38;5;241;43m=\u001b[39;49m\u001b[43mseed\u001b[49m\u001b[43m)\u001b[49m\n",
      "File \u001b[0;32m/Library/Frameworks/Python.framework/Versions/3.11/lib/python3.11/site-packages/scipy/stats/_multivariate.py:839\u001b[0m, in \u001b[0;36mmultivariate_normal_frozen.__init__\u001b[0;34m(self, mean, cov, allow_singular, seed, maxpts, abseps, releps)\u001b[0m\n\u001b[1;32m    796\u001b[0m \u001b[38;5;250m\u001b[39m\u001b[38;5;124;03m\"\"\"Create a frozen multivariate normal distribution.\u001b[39;00m\n\u001b[1;32m    797\u001b[0m \n\u001b[1;32m    798\u001b[0m \u001b[38;5;124;03mParameters\u001b[39;00m\n\u001b[0;32m   (...)\u001b[0m\n\u001b[1;32m    835\u001b[0m \n\u001b[1;32m    836\u001b[0m \u001b[38;5;124;03m\"\"\"\u001b[39;00m\n\u001b[1;32m    837\u001b[0m \u001b[38;5;28mself\u001b[39m\u001b[38;5;241m.\u001b[39m_dist \u001b[38;5;241m=\u001b[39m multivariate_normal_gen(seed)\n\u001b[1;32m    838\u001b[0m \u001b[38;5;28mself\u001b[39m\u001b[38;5;241m.\u001b[39mdim, \u001b[38;5;28mself\u001b[39m\u001b[38;5;241m.\u001b[39mmean, \u001b[38;5;28mself\u001b[39m\u001b[38;5;241m.\u001b[39mcov_object \u001b[38;5;241m=\u001b[39m (\n\u001b[0;32m--> 839\u001b[0m     \u001b[38;5;28;43mself\u001b[39;49m\u001b[38;5;241;43m.\u001b[39;49m\u001b[43m_dist\u001b[49m\u001b[38;5;241;43m.\u001b[39;49m\u001b[43m_process_parameters\u001b[49m\u001b[43m(\u001b[49m\u001b[43mmean\u001b[49m\u001b[43m,\u001b[49m\u001b[43m \u001b[49m\u001b[43mcov\u001b[49m\u001b[43m,\u001b[49m\u001b[43m \u001b[49m\u001b[43mallow_singular\u001b[49m\u001b[43m)\u001b[49m)\n\u001b[1;32m    840\u001b[0m \u001b[38;5;28mself\u001b[39m\u001b[38;5;241m.\u001b[39mallow_singular \u001b[38;5;241m=\u001b[39m allow_singular \u001b[38;5;129;01mor\u001b[39;00m \u001b[38;5;28mself\u001b[39m\u001b[38;5;241m.\u001b[39mcov_object\u001b[38;5;241m.\u001b[39m_allow_singular\n\u001b[1;32m    841\u001b[0m \u001b[38;5;28;01mif\u001b[39;00m \u001b[38;5;129;01mnot\u001b[39;00m maxpts:\n",
      "File \u001b[0;32m/Library/Frameworks/Python.framework/Versions/3.11/lib/python3.11/site-packages/scipy/stats/_multivariate.py:422\u001b[0m, in \u001b[0;36mmultivariate_normal_gen._process_parameters\u001b[0;34m(self, mean, cov, allow_singular)\u001b[0m\n\u001b[1;32m    415\u001b[0m dim, mean, cov \u001b[38;5;241m=\u001b[39m \u001b[38;5;28mself\u001b[39m\u001b[38;5;241m.\u001b[39m_process_parameters_psd(\u001b[38;5;28;01mNone\u001b[39;00m, mean, cov)\n\u001b[1;32m    416\u001b[0m \u001b[38;5;66;03m# After input validation, some methods then processed the arrays\u001b[39;00m\n\u001b[1;32m    417\u001b[0m \u001b[38;5;66;03m# with a `_PSD` object and used that to perform computation.\u001b[39;00m\n\u001b[1;32m    418\u001b[0m \u001b[38;5;66;03m# To avoid branching statements in each method depending on whether\u001b[39;00m\n\u001b[1;32m    419\u001b[0m \u001b[38;5;66;03m# `cov` is an array or `Covariance` object, we always process the\u001b[39;00m\n\u001b[1;32m    420\u001b[0m \u001b[38;5;66;03m# array with `_PSD`, and then use wrapper that satisfies the\u001b[39;00m\n\u001b[1;32m    421\u001b[0m \u001b[38;5;66;03m# `Covariance` interface, `CovViaPSD`.\u001b[39;00m\n\u001b[0;32m--> 422\u001b[0m psd \u001b[38;5;241m=\u001b[39m \u001b[43m_PSD\u001b[49m\u001b[43m(\u001b[49m\u001b[43mcov\u001b[49m\u001b[43m,\u001b[49m\u001b[43m \u001b[49m\u001b[43mallow_singular\u001b[49m\u001b[38;5;241;43m=\u001b[39;49m\u001b[43mallow_singular\u001b[49m\u001b[43m)\u001b[49m\n\u001b[1;32m    423\u001b[0m cov_object \u001b[38;5;241m=\u001b[39m _covariance\u001b[38;5;241m.\u001b[39mCovViaPSD(psd)\n\u001b[1;32m    424\u001b[0m \u001b[38;5;28;01mreturn\u001b[39;00m dim, mean, cov_object\n",
      "File \u001b[0;32m/Library/Frameworks/Python.framework/Versions/3.11/lib/python3.11/site-packages/scipy/stats/_multivariate.py:177\u001b[0m, in \u001b[0;36m_PSD.__init__\u001b[0;34m(self, M, cond, rcond, lower, check_finite, allow_singular)\u001b[0m\n\u001b[1;32m    174\u001b[0m \u001b[38;5;28;01mif\u001b[39;00m \u001b[38;5;28mlen\u001b[39m(d) \u001b[38;5;241m<\u001b[39m \u001b[38;5;28mlen\u001b[39m(s) \u001b[38;5;129;01mand\u001b[39;00m \u001b[38;5;129;01mnot\u001b[39;00m allow_singular:\n\u001b[1;32m    175\u001b[0m     msg \u001b[38;5;241m=\u001b[39m (\u001b[38;5;124m\"\u001b[39m\u001b[38;5;124mWhen `allow_singular is False`, the input matrix must be \u001b[39m\u001b[38;5;124m\"\u001b[39m\n\u001b[1;32m    176\u001b[0m            \u001b[38;5;124m\"\u001b[39m\u001b[38;5;124msymmetric positive definite.\u001b[39m\u001b[38;5;124m\"\u001b[39m)\n\u001b[0;32m--> 177\u001b[0m     \u001b[38;5;28;01mraise\u001b[39;00m np\u001b[38;5;241m.\u001b[39mlinalg\u001b[38;5;241m.\u001b[39mLinAlgError(msg)\n\u001b[1;32m    178\u001b[0m s_pinv \u001b[38;5;241m=\u001b[39m _pinv_1d(s, eps)\n\u001b[1;32m    179\u001b[0m U \u001b[38;5;241m=\u001b[39m np\u001b[38;5;241m.\u001b[39mmultiply(u, np\u001b[38;5;241m.\u001b[39msqrt(s_pinv))\n",
      "\u001b[0;31mLinAlgError\u001b[0m: When `allow_singular is False`, the input matrix must be symmetric positive definite."
     ]
    }
   ],
   "source": [
    "def random_sample3():\n",
    "    zj_1 = get_prior(X)\n",
    "    us = []\n",
    "    for j in range(0, 20):\n",
    "        uj = zj_1.rvs(1)\n",
    "        zj = get_prior(zj_1.rvs(1))\n",
    "        zj_1 = zj\n",
    "        us.append(uj)\n",
    "    return us\n",
    "\n",
    "\n",
    "G = 1\n",
    "U1c = np.zeros((G, 100))\n",
    "U2c = np.zeros((G, 100))\n",
    "U3c = np.zeros((G, 100))\n",
    "U4c = np.zeros((G, 100))\n",
    "for j in range(0, G):\n",
    "    us = random_sample3()\n",
    "    U1c[j,:] = us[-4]\n",
    "    U2c[j,:] = us[-3]\n",
    "    U3c[j,:] = us[-2]\n",
    "    U4c[j,:] = us[-1]"
   ]
  },
  {
   "cell_type": "code",
   "execution_count": null,
   "id": "8e5cc82f",
   "metadata": {},
   "outputs": [],
   "source": [
    "fig = plt.figure(layout='constrained', figsize=(8, 6))\n",
    "plt.subplot(221)\n",
    "plt.title('Layer 17')\n",
    "plt.plot(X, U1c.T, alpha=0.5, lw=2)\n",
    "plt.xlabel('x')\n",
    "plt.subplot(222)\n",
    "plt.title('Layer 18')\n",
    "plt.plot(X, U2c.T, alpha=0.5, lw=2)\n",
    "plt.subplot(223)\n",
    "plt.title('Layer 19')\n",
    "plt.plot(X, U3c.T, alpha=0.5, lw=2)\n",
    "plt.subplot(224)\n",
    "plt.title('Layer 20')\n",
    "plt.plot(X, U4c.T, alpha=0.5, lw=2)\n",
    "plt.savefig('layers3.png', dpi=170, bbox_inches='tight', transparent=True)\n",
    "plt.show()"
   ]
  },
  {
   "cell_type": "code",
   "execution_count": null,
   "id": "79711e2f",
   "metadata": {},
   "outputs": [],
   "source": []
  },
  {
   "cell_type": "code",
   "execution_count": null,
   "id": "845a9807",
   "metadata": {},
   "outputs": [],
   "source": [
    "asdasd"
   ]
  },
  {
   "cell_type": "code",
   "execution_count": null,
   "id": "8ea3017c",
   "metadata": {},
   "outputs": [],
   "source": [
    "def random_sample():\n",
    "    z1 = get_prior(X)\n",
    "    u1 = z1.rvs(1)\n",
    "    z2 = get_prior(z1.rvs(1))\n",
    "    u2 = z2.rvs(1)\n",
    "    z3 = get_prior(z2.rvs(1))\n",
    "    u3 = z3.rvs(1)\n",
    "    z4 = get_prior(z3.rvs(1))\n",
    "    u4 = z4.rvs(1)\n",
    "    return u1, u2, u3, u4\n",
    "\n",
    "G = 15\n",
    "U1 = np.zeros((G, 100))\n",
    "U2 = np.zeros((G, 100))\n",
    "U3 = np.zeros((G, 100))\n",
    "U4 = np.zeros((G, 100))\n",
    "for j in range(0, G):\n",
    "    u1, u2, u3, u4 = random_sample()\n",
    "    U1[j,:] = u1\n",
    "    U2[j,:] = u2\n",
    "    U3[j,:] = u3\n",
    "    U4[j,:] = u4"
   ]
  },
  {
   "cell_type": "code",
   "execution_count": null,
   "id": "6a3b6d71",
   "metadata": {},
   "outputs": [],
   "source": [
    "fig = plt.figure(layout='constrained', figsize=(8, 6))\n",
    "plt.subplot(221)\n",
    "plt.title('Layer 1')\n",
    "plt.plot(X, U1.T, alpha=0.5, lw=2)\n",
    "plt.xlabel('x')\n",
    "plt.subplot(222)\n",
    "plt.title('Layer 2')\n",
    "plt.plot(X, U2.T, alpha=0.5, lw=2)\n",
    "plt.subplot(223)\n",
    "plt.title('Layer 3')\n",
    "plt.plot(X, U3.T, alpha=0.5, lw=2)\n",
    "plt.subplot(224)\n",
    "plt.title('Layer 4')\n",
    "plt.plot(X, U4.T, alpha=0.5, lw=2)\n",
    "plt.savefig('layers.png', dpi=170, bbox_inches='tight', transparent=True)\n",
    "plt.show()"
   ]
  },
  {
   "cell_type": "code",
   "execution_count": null,
   "id": "16b44aee",
   "metadata": {},
   "outputs": [],
   "source": [
    "def random_sample2():\n",
    "    z1 = get_prior(X)\n",
    "    u1 = z1.rvs(1)\n",
    "    z2 = get_prior(z1.rvs(1))\n",
    "    u2 = z2.rvs(1)\n",
    "    z3 = get_prior(z2.rvs(1))\n",
    "    u3 = z3.rvs(1)\n",
    "    z4 = get_prior(z3.rvs(1))\n",
    "    u4 = z4.rvs(1)\n",
    "    \n",
    "    z5 = get_prior(z4.rvs(1))\n",
    "    u5 = z5.rvs(1)\n",
    "    \n",
    "    z6 = get_prior(z5.rvs(1))\n",
    "    u6 = z6.rvs(1)\n",
    "    \n",
    "    z7 = get_prior(z6.rvs(1))\n",
    "    u7 = z7.rvs(1)\n",
    "    \n",
    "    z8 = get_prior(z7.rvs(1))\n",
    "    u8 = z8.rvs(1)\n",
    "    \n",
    "    z9 = get_prior(z8.rvs(1))\n",
    "    u9 = z9.rvs(1)\n",
    "    \n",
    "    return u6, u7, u8, u9\n",
    "\n",
    "G = 15\n",
    "U1b = np.zeros((G, 100))\n",
    "U2b = np.zeros((G, 100))\n",
    "U3b = np.zeros((G, 100))\n",
    "U4b = np.zeros((G, 100))\n",
    "for j in range(0, G):\n",
    "    u1, u2, u3, u4 = random_sample2()\n",
    "    U1b[j,:] = u1\n",
    "    U2b[j,:] = u2\n",
    "    U3b[j,:] = u3\n",
    "    U4b[j,:] = u4"
   ]
  },
  {
   "cell_type": "code",
   "execution_count": null,
   "id": "45a1b80a",
   "metadata": {},
   "outputs": [],
   "source": [
    "fig = plt.figure(layout='constrained', figsize=(8, 6))\n",
    "plt.subplot(221)\n",
    "plt.title('Layer 6')\n",
    "plt.plot(X, U1b.T, alpha=0.5, lw=2)\n",
    "plt.xlabel('x')\n",
    "plt.subplot(222)\n",
    "plt.title('Layer 7')\n",
    "plt.plot(X, U2b.T, alpha=0.5, lw=2)\n",
    "plt.subplot(223)\n",
    "plt.title('Layer 8')\n",
    "plt.plot(X, U3b.T, alpha=0.5, lw=2)\n",
    "plt.subplot(224)\n",
    "plt.title('Layer 9')\n",
    "plt.plot(X, U4b.T, alpha=0.5, lw=2)\n",
    "plt.savefig('layers2.png', dpi=170, bbox_inches='tight', transparent=True)\n",
    "plt.show()"
   ]
  },
  {
   "cell_type": "code",
   "execution_count": null,
   "id": "cc976789",
   "metadata": {},
   "outputs": [],
   "source": []
  },
  {
   "cell_type": "code",
   "execution_count": null,
   "id": "1986f014",
   "metadata": {},
   "outputs": [],
   "source": [
    "fig = plt.figure(layout='constrained', figsize=(8, 6))\n",
    "plt.subplot(221)\n",
    "plt.title('Layer 17')\n",
    "plt.plot(X, U1b.T, alpha=0.5, lw=2)\n",
    "plt.xlabel('x')\n",
    "plt.subplot(222)\n",
    "plt.title('Layer 18')\n",
    "plt.plot(X, U2b.T, alpha=0.5, lw=2)\n",
    "plt.subplot(223)\n",
    "plt.title('Layer 19')\n",
    "plt.plot(X, U3b.T, alpha=0.5, lw=2)\n",
    "plt.subplot(224)\n",
    "plt.title('Layer 20')\n",
    "plt.plot(X, U4b.T, alpha=0.5, lw=2)\n",
    "plt.savefig('layers3.png', dpi=170, bbox_inches='tight', transparent=True)\n",
    "plt.show()"
   ]
  },
  {
   "cell_type": "code",
   "execution_count": null,
   "id": "68d49715",
   "metadata": {},
   "outputs": [],
   "source": []
  },
  {
   "cell_type": "code",
   "execution_count": null,
   "id": "4ed1c730",
   "metadata": {},
   "outputs": [],
   "source": []
  },
  {
   "cell_type": "code",
   "execution_count": null,
   "id": "c2968a1f",
   "metadata": {},
   "outputs": [],
   "source": []
  },
  {
   "cell_type": "code",
   "execution_count": null,
   "id": "2e4d05a4",
   "metadata": {},
   "outputs": [],
   "source": [
    "x = np.random.rand(80)*2 - 1\n",
    "y = np.sign(x) + np.random.randn(80)*0.05"
   ]
  },
  {
   "cell_type": "code",
   "execution_count": null,
   "id": "dd464b88",
   "metadata": {},
   "outputs": [],
   "source": [
    "plt.plot(x, y, '.')\n",
    "plt.show()"
   ]
  },
  {
   "cell_type": "code",
   "execution_count": null,
   "id": "ec6b1c9d",
   "metadata": {},
   "outputs": [],
   "source": [
    "import GPy\n",
    "m_full = GPy.models.GPRegression(x,yhat)\n",
    "_ = m_full.optimize() # Optimize parameters of covariance function"
   ]
  }
 ],
 "metadata": {
  "kernelspec": {
   "display_name": "Python 3 (ipykernel)",
   "language": "python",
   "name": "python3"
  },
  "language_info": {
   "codemirror_mode": {
    "name": "ipython",
    "version": 3
   },
   "file_extension": ".py",
   "mimetype": "text/x-python",
   "name": "python",
   "nbconvert_exporter": "python",
   "pygments_lexer": "ipython3",
   "version": "3.11.1"
  }
 },
 "nbformat": 4,
 "nbformat_minor": 5
}
