{
 "cells": [
  {
   "cell_type": "code",
   "execution_count": 1,
   "id": "819d67b5",
   "metadata": {},
   "outputs": [],
   "source": [
    "import math\n",
    "import torch\n",
    "import gpytorch\n",
    "from matplotlib import pyplot as plt\n",
    "import os\n",
    "\n",
    "%matplotlib inline"
   ]
  },
  {
   "cell_type": "code",
   "execution_count": 2,
   "id": "26d64bae",
   "metadata": {},
   "outputs": [],
   "source": [
    "train_x = torch.rand(10)\n",
    "# True function is sin(2*pi*x) with Gaussian noise\n",
    "train_y = torch.sin(train_x * (2 * math.pi)) + torch.randn(train_x.size()) * math.sqrt(0.04)"
   ]
  },
  {
   "cell_type": "code",
   "execution_count": 3,
   "id": "62061c95",
   "metadata": {},
   "outputs": [
    {
     "data": {
      "image/png": "[encoded data removed]",
      "text/plain": [
       "<Figure size 640x480 with 1 Axes>"
      ]
     },
     "metadata": {},
     "output_type": "display_data"
    }
   ],
   "source": [
    "plt.plot(train_x, train_y, 'o')\n",
    "plt.show()"
   ]
  },
  {
   "cell_type": "code",
   "execution_count": 4,
   "id": "01c02000",
   "metadata": {},
   "outputs": [],
   "source": [
    "# We will use the simplest form of GP model, exact inference\n",
    "class ExactGPModel(gpytorch.models.ExactGP):\n",
    "    def __init__(self, train_x, train_y, likelihood):\n",
    "        super(ExactGPModel, self).__init__(train_x, train_y, likelihood)\n",
    "        self.mean_module = gpytorch.means.ConstantMean()\n",
    "        self.covar_module = gpytorch.kernels.ScaleKernel(gpytorch.kernels.RBFKernel())\n",
    "\n",
    "    def forward(self, x):\n",
    "        mean_x = self.mean_module(x)\n",
    "        covar_x = self.covar_module(x)\n",
    "        return gpytorch.distributions.MultivariateNormal(mean_x, covar_x)\n",
    "\n",
    "# initialize likelihood and model\n",
    "likelihood = gpytorch.likelihoods.GaussianLikelihood()\n",
    "model = ExactGPModel(train_x, train_y, likelihood)"
   ]
  },
  {
   "cell_type": "code",
   "execution_count": 5,
   "id": "60eef2ee",
   "metadata": {},
   "outputs": [
    {
     "name": "stdout",
     "output_type": "stream",
     "text": [
      "Iter 1/50 - Loss: 1.100   lengthscale: 0.693   noise: 0.693\n",
      "Iter 2/50 - Loss: 1.075   lengthscale: 0.644   noise: 0.644\n",
      "Iter 3/50 - Loss: 1.050   lengthscale: 0.598   noise: 0.598\n",
      "Iter 4/50 - Loss: 1.024   lengthscale: 0.554   noise: 0.554\n",
      "Iter 5/50 - Loss: 0.999   lengthscale: 0.513   noise: 0.513\n",
      "Iter 6/50 - Loss: 0.973   lengthscale: 0.473   noise: 0.474\n",
      "Iter 7/50 - Loss: 0.948   lengthscale: 0.436   noise: 0.438\n",
      "Iter 8/50 - Loss: 0.922   lengthscale: 0.401   noise: 0.404\n",
      "Iter 9/50 - Loss: 0.896   lengthscale: 0.368   noise: 0.372\n",
      "Iter 10/50 - Loss: 0.871   lengthscale: 0.338   noise: 0.342\n",
      "Iter 11/50 - Loss: 0.847   lengthscale: 0.309   noise: 0.314\n",
      "Iter 12/50 - Loss: 0.824   lengthscale: 0.282   noise: 0.289\n",
      "Iter 13/50 - Loss: 0.803   lengthscale: 0.258   noise: 0.265\n",
      "Iter 14/50 - Loss: 0.783   lengthscale: 0.236   noise: 0.243\n",
      "Iter 15/50 - Loss: 0.766   lengthscale: 0.216   noise: 0.222\n",
      "Iter 16/50 - Loss: 0.751   lengthscale: 0.199   noise: 0.204\n",
      "Iter 17/50 - Loss: 0.737   lengthscale: 0.186   noise: 0.186\n",
      "Iter 18/50 - Loss: 0.724   lengthscale: 0.176   noise: 0.171\n",
      "Iter 19/50 - Loss: 0.711   lengthscale: 0.168   noise: 0.156\n",
      "Iter 20/50 - Loss: 0.697   lengthscale: 0.164   noise: 0.143\n",
      "Iter 21/50 - Loss: 0.684   lengthscale: 0.162   noise: 0.131\n",
      "Iter 22/50 - Loss: 0.670   lengthscale: 0.163   noise: 0.120\n",
      "Iter 23/50 - Loss: 0.657   lengthscale: 0.165   noise: 0.110\n",
      "Iter 24/50 - Loss: 0.645   lengthscale: 0.168   noise: 0.101\n",
      "Iter 25/50 - Loss: 0.635   lengthscale: 0.173   noise: 0.093\n",
      "Iter 26/50 - Loss: 0.625   lengthscale: 0.178   noise: 0.085\n",
      "Iter 27/50 - Loss: 0.618   lengthscale: 0.183   noise: 0.079\n",
      "Iter 28/50 - Loss: 0.612   lengthscale: 0.188   noise: 0.073\n",
      "Iter 29/50 - Loss: 0.608   lengthscale: 0.192   noise: 0.067\n",
      "Iter 30/50 - Loss: 0.605   lengthscale: 0.195   noise: 0.062\n",
      "Iter 31/50 - Loss: 0.603   lengthscale: 0.195   noise: 0.058\n",
      "Iter 32/50 - Loss: 0.601   lengthscale: 0.194   noise: 0.055\n",
      "Iter 33/50 - Loss: 0.598   lengthscale: 0.190   noise: 0.051\n",
      "Iter 34/50 - Loss: 0.596   lengthscale: 0.185   noise: 0.048\n",
      "Iter 35/50 - Loss: 0.592   lengthscale: 0.177   noise: 0.046\n",
      "Iter 36/50 - Loss: 0.588   lengthscale: 0.169   noise: 0.044\n",
      "Iter 37/50 - Loss: 0.584   lengthscale: 0.159   noise: 0.042\n",
      "Iter 38/50 - Loss: 0.580   lengthscale: 0.150   noise: 0.040\n",
      "Iter 39/50 - Loss: 0.578   lengthscale: 0.141   noise: 0.039\n",
      "Iter 40/50 - Loss: 0.578   lengthscale: 0.134   noise: 0.037\n",
      "Iter 41/50 - Loss: 0.578   lengthscale: 0.128   noise: 0.036\n",
      "Iter 42/50 - Loss: 0.578   lengthscale: 0.125   noise: 0.034\n",
      "Iter 43/50 - Loss: 0.578   lengthscale: 0.124   noise: 0.033\n",
      "Iter 44/50 - Loss: 0.577   lengthscale: 0.124   noise: 0.032\n",
      "Iter 45/50 - Loss: 0.577   lengthscale: 0.126   noise: 0.031\n",
      "Iter 46/50 - Loss: 0.577   lengthscale: 0.128   noise: 0.030\n",
      "Iter 47/50 - Loss: 0.577   lengthscale: 0.131   noise: 0.030\n",
      "Iter 48/50 - Loss: 0.577   lengthscale: 0.133   noise: 0.029\n",
      "Iter 49/50 - Loss: 0.577   lengthscale: 0.135   noise: 0.029\n",
      "Iter 50/50 - Loss: 0.577   lengthscale: 0.135   noise: 0.028\n"
     ]
    }
   ],
   "source": [
    "smoke_test = ('CI' in os.environ)\n",
    "training_iter = 2 if smoke_test else 50\n",
    "\n",
    "\n",
    "# Find optimal model hyperparameters\n",
    "model.train()\n",
    "likelihood.train()\n",
    "\n",
    "# Use the adam optimizer\n",
    "optimizer = torch.optim.Adam(model.parameters(), lr=0.1)  # Includes GaussianLikelihood parameters\n",
    "\n",
    "# \"Loss\" for GPs - the marginal log likelihood\n",
    "mll = gpytorch.mlls.ExactMarginalLogLikelihood(likelihood, model)\n",
    "\n",
    "for i in range(training_iter):\n",
    "    # Zero gradients from previous iteration\n",
    "    optimizer.zero_grad()\n",
    "    # Output from model\n",
    "    output = model(train_x)\n",
    "    # Calc loss and backprop gradients\n",
    "    loss = -mll(output, train_y)\n",
    "    loss.backward()\n",
    "    print('Iter %d/%d - Loss: %.3f   lengthscale: %.3f   noise: %.3f' % (\n",
    "        i + 1, training_iter, loss.item(),\n",
    "        model.covar_module.base_kernel.lengthscale.item(),\n",
    "        model.likelihood.noise.item()\n",
    "    ))\n",
    "    optimizer.step()"
   ]
  },
  {
   "cell_type": "code",
   "execution_count": null,
   "id": "bbec3e84",
   "metadata": {},
   "outputs": [],
   "source": []
  }
 ],
 "metadata": {
  "kernelspec": {
   "display_name": "Python 3 (ipykernel)",
   "language": "python",
   "name": "python3"
  },
  "language_info": {
   "codemirror_mode": {
    "name": "ipython",
    "version": 3
   },
   "file_extension": ".py",
   "mimetype": "text/x-python",
   "name": "python",
   "nbconvert_exporter": "python",
   "pygments_lexer": "ipython3",
   "version": "3.11.1"
  }
 },
 "nbformat": 4,
 "nbformat_minor": 5
}
