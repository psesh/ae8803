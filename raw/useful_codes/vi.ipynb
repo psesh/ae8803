{
 "cells": [
  {
   "cell_type": "markdown",
   "id": "58c7a6f3",
   "metadata": {},
   "source": [
    "### Variational Inference"
   ]
  },
  {
   "cell_type": "markdown",
   "id": "b9de747c",
   "metadata": {},
   "source": [
    "Let us begin with Bayes' rule\n",
    "\n",
    "$$\n",
    "p \\left( \\mathbf{f} | \\mathbf{X}, \\mathbf{t} \\right) = \\frac{p \\left(\\mathbf{t} | \\mathbf{f} \\right)p \\left( \\mathbf{f} | \\mathbf{X} \\right) }{p \\left( \\mathbf{t} | \\mathbf{X} \\right) }\n",
    "$$\n",
    "\n",
    "where assuming a Gaussian likelihood and Gaussian noise model, we have\n",
    "\n",
    "$$\n",
    "\\textrm{Likelihood}: p \\left(\\mathbf{t} | \\mathbf{f} \\right) = \\mathcal{N} \\left( \\mathbf{f} , \\sigma^2 \\mathbf{I} \\right)\n",
    "$$\n",
    "\n",
    "$$\n",
    "\\textrm{Prior}: p \\left( \\mathbf{f} | \\mathbf{X} \\right) = \\mathcal{N} \\left( \\mathbf{0}, \\mathbf{K} \\right)\n",
    "$$\n",
    "\n",
    "$$\n",
    "\\textrm{Posterior}: p \\left( \\mathbf{f} | \\mathbf{X}, \\mathbf{t} \\right) = \\mathcal{N} \\left( \\boldsymbol{\\mu}, \\boldsymbol{\\Sigma} \\right)\n",
    "$$\n",
    "\n",
    "where\n",
    "\n",
    "$$\n",
    "\\boldsymbol{\\mu} = \\mathbf{K}\\left( \\mathbf{X}_{\\ast}, \\mathbf{X} \\right) \\left[ \\mathbf{K}\\left( \\mathbf{X} , \\mathbf{X} \\right)  + \\sigma^2 \\mathbf{I} \\right]^{-1} \\mathbf{t}\n",
    "$$\n",
    "\n",
    "and\n",
    "\n",
    "$$\n",
    "\\boldsymbol{\\Sigma} = \\mathbf{K}\\left( \\mathbf{X}_{\\ast}, \\mathbf{X}_{\\ast} \\right) - \\mathbf{K}\\left( \\mathbf{X}_{\\ast}, \\mathbf{X} \\right) \\left[ \\mathbf{K}\\left( \\mathbf{X} , \\mathbf{X} \\right)  + \\sigma^2 \\mathbf{I} \\right]^{-1} \\mathbf{K}^{T}\\left( \\mathbf{X}_{\\ast}, \\mathbf{X} \\right) \n",
    "$$"
   ]
  },
  {
   "cell_type": "markdown",
   "id": "0a6df191",
   "metadata": {},
   "source": [
    "The objective of"
   ]
  }
 ],
 "metadata": {
  "kernelspec": {
   "display_name": "Python 3 (ipykernel)",
   "language": "python",
   "name": "python3"
  },
  "language_info": {
   "codemirror_mode": {
    "name": "ipython",
    "version": 3
   },
   "file_extension": ".py",
   "mimetype": "text/x-python",
   "name": "python",
   "nbconvert_exporter": "python",
   "pygments_lexer": "ipython3",
   "version": "3.11.1"
  }
 },
 "nbformat": 4,
 "nbformat_minor": 5
}
