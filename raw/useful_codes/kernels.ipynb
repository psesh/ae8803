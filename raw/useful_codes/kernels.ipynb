{
 "cells": [
  {
   "cell_type": "raw",
   "id": "567414e8",
   "metadata": {},
   "source": [
    "---\n",
    "title: \"Notes on kernels\"\n",
    "format:\n",
    "    html:\n",
    "        code-fold: true\n",
    "jupyter: python3\n",
    "fontsize: 1.2em\n",
    "linestretch: 1.5\n",
    "toc: true\n",
    "notebook-view: true\n",
    "---"
   ]
  },
  {
   "cell_type": "markdown",
   "id": "37842578",
   "metadata": {},
   "source": [
    "## Overview\n",
    "\n",
    "This attempts to describe kernels. The hope is after going through this, the reader appreciates just how powerful kernels are, and the role they play in Gaussian process models. "
   ]
  },
  {
   "cell_type": "code",
   "execution_count": 52,
   "id": "34a1f9c2",
   "metadata": {},
   "outputs": [],
   "source": [
    "### Data \n",
    "import plotly.graph_objects as go\n",
    "import plotly.figure_factory as ff\n",
    "import plotly.express as px\n",
    "import numpy as np\n",
    "import pandas as pd\n",
    "import plotly.io as pio\n",
    "import numpy as np\n",
    "pio.renderers.default = 'iframe'\n",
    "from IPython.display import display, HTML"
   ]
  },
  {
   "cell_type": "markdown",
   "id": "e99576e4",
   "metadata": {},
   "source": [
    "### Minimum norm solutions"
   ]
  },
  {
   "cell_type": "markdown",
   "id": "51240da7",
   "metadata": {},
   "source": [
    "One way to motivate the study of kernels, is to consider a linear regression problem where one has more unknowns than observational data. Let $\\mathbf{X} = \\left[\\mathbf{x}_{1}^{T}, \\mathbf{x}_{2}^{T}, \\ldots, \\mathbf{x}_{N}^{T}\\right]$ be the $N \\times d$ data corresponding to $N$ observations of $d$-dimensional data. These *input* observations are accompanied by an output observational vector, $\\mathbf{y} \\in \\mathbb{R}^{N}$. Let $\\boldsymbol{\\Phi} \\left( \\mathbf{X} \\right) \\in \\mathbb{R}^{N \\times M}$ be a parameterized matrix comprising of $M$ basis functions, i.e., \n",
    "\n",
    "$$\n",
    "\\boldsymbol{\\Phi}\\left( \\mathbf{X} \\right) = \\left[\\begin{array}{cccc}\n",
    "\\phi_{1}\\left(\\mathbf{X} \\right), & \\phi_{2}\\left(\\mathbf{X} \\right), & \\ldots, & \\phi_{M}\\left(\\mathbf{X} \\right)\\end{array}\\right]\n",
    "$$\n",
    "\n",
    "If we are interested in approximating $f \\left( \\mathbf{X} \\right) \\approx \\hat{f} \\left( \\mathbf{X} \\right) = y = \\mathbf{\\Phi} \\left( \\mathbf{X} \\right) \\boldsymbol{\\alpha}$, we can determine the unknown coefficients via least squares. This leads to the solution via the normal equations\n",
    "\n",
    "$$\n",
    "\\boldsymbol{\\alpha} = \\left( \\mathbf{\\Phi}^{T} \\mathbf{\\Phi}\\right)^{-1} \\boldsymbol{\\Phi}^{T} \\mathbf{y}\n",
    "$$\n",
    "\n",
    "Now, strictly speaking, one cannot use the normal equations to solve a problem where there are more unknowns than observations because $\\left( \\mathbf{\\Phi}^{T} \\mathbf{\\Phi}\\right)$ is not full rank. Recognizing that in such a situation, there may likely be numerous solutions to $\\boldsymbol{\\Phi}\\left( \\mathbf{X} \\right) \\boldsymbol{\\alpha} = \\mathbf{y}$, we want the solution with the lowest $L_2$ norm. This can be more conveniently formulated as as *minimum norm problem*, written as\n",
    "\n",
    "$$\n",
    "\\begin{aligned}\n",
    "\\underset{x}{\\textrm{minimize}} & \\; \\boldsymbol{\\alpha}^{T} \\boldsymbol{\\alpha} \\\\ \n",
    "\\textrm{subject to} \\; \\; &  \\boldsymbol{\\Phi}\\left( \\mathbf{X} \\right) \\boldsymbol{\\alpha} = \\mathbf{y}.\n",
    "\\end{aligned}\n",
    "$$\n",
    "\n",
    "The easiest way to solve this via the method of Lagrange multipliers, i.e., we define the objective function \n",
    "\n",
    "$$\n",
    "L \\left( \\boldsymbol{\\alpha}, \\lambda \\right) = \\boldsymbol{\\alpha}^{T} \\boldsymbol{\\alpha}  + \\lambda^{T} \\left( \\boldsymbol{\\Phi}\\left( \\mathbf{X} \\right) \\boldsymbol{\\alpha} - \\mathbf{y}\\right), \n",
    "$$\n",
    "\n",
    "where $\\lambda$ comprises the Lagrange multipliers. The optimality conditions for this objective are given by\n",
    "\n",
    "$$\n",
    "\\begin{aligned}\n",
    "\\nabla_{\\boldsymbol{\\alpha}} L & = 2 \\boldsymbol{\\alpha} + \\boldsymbol{\\Phi}^{T} \\lambda = 0, \\\\\n",
    "\\nabla_{\\lambda} L & = \\boldsymbol{\\Phi} \\boldsymbol{\\alpha} - \\mathbf{y} = 0. \n",
    "\\end{aligned}\n",
    "$$\n",
    "\n",
    "This leads to $\\boldsymbol{\\alpha} = - \\boldsymbol{\\Phi}^{T} \\lambda / 2$. Substituting this into the second expression above yields $\\lambda = -2 \\left(\\boldsymbol{\\Phi} \\boldsymbol{\\Phi}^{T} \\right)^{-1} \\mathbf{y}$. This leads to the minimum norm solution\n",
    "\n",
    "$$\n",
    "\\boldsymbol{\\alpha} = \\boldsymbol{\\Phi}^{T}  \\left( \\boldsymbol{\\Phi} \\boldsymbol{\\Phi}^{T}  \\right)^{-1} \\mathbf{y}.\n",
    "$$\n",
    "\n",
    "Note that unlike $\\left( \\boldsymbol{\\Phi}^{T} \\boldsymbol{\\Phi} \\right)$, $\\left( \\boldsymbol{\\Phi} \\boldsymbol{\\Phi}^{T}  \\right)$ does have full rank. The latter is an inner product between feature vectors. To see this, define the two-point kernel function\n",
    "\n",
    "$$\n",
    "k \\left( \\mathbf{x}, \\mathbf{x}' \\right) = \\boldsymbol{\\Phi} \\left( \\mathbf{x} \\right) \\boldsymbol{\\Phi}^{T} \\left( \\mathbf{x} \\right). \n",
    "$$\n",
    "\n",
    "and the associated covariance matrix, defined elementwise via\n",
    "\n",
    "$$\n",
    "\\left[ \\mathbf{K} \\left(\\mathbf{X}, \\mathbf{X}' \\right)\\right]_{ij} = k \\left( \\mathbf{x}_{i}, \\mathbf{x}_{j} \\right)\n",
    "$$"
   ]
  },
  {
   "cell_type": "markdown",
   "id": "a59b5a93",
   "metadata": {},
   "source": [
    "### The kernel trick (feature maps $\\rightarrow$ kernels)\n",
    "\n",
    "From the coefficients $\\boldsymbol{\\alpha}$ computed via the minimum norm solution, it should be clear that approximate values of the true function at new locations $\\mathbf{X}_{\\ast}$ can be given via\n",
    "\n",
    "$$\n",
    "\\begin{aligned}\n",
    "\\hat{f} \\left( \\mathbf{X}_{\\ast} \\right) & = \\Phi \\left( \\mathbf{X}_{\\ast} \\right) \\boldsymbol{\\alpha} \\\\\n",
    "& = \\boldsymbol{\\Phi} \\left( \\mathbf{X}_{\\ast} \\right)  \\boldsymbol{\\Phi}^{T} \\left( \\mathbf{X} \\right)  \\left( \\boldsymbol{\\Phi} \\left( \\mathbf{X} \\right)  \\boldsymbol{\\Phi}^{T} \\left( \\mathbf{X} \\right)   \\right)^{-1} \\mathbf{y} \\\\\n",
    "& = \\left( \\boldsymbol{\\Phi} \\left( \\mathbf{X}_{\\ast} \\right)  \\boldsymbol{\\Phi}^{T} \\left( \\mathbf{X} \\right)  \\right)  \\left( \\boldsymbol{\\Phi} \\left( \\mathbf{X} \\right)  \\boldsymbol{\\Phi} \\left( \\mathbf{X} \\right) ^{T}  \\right)^{-1} \\mathbf{y} \\\\\n",
    "& = \\mathbf{K} \\left( \\mathbf{X}_{\\ast}, \\mathbf{X} \\right) \\mathbf{K}^{-1} \\left( \\mathbf{X}, \\mathbf{X} \\right) \\mathbf{y} \\\\\n",
    "\\end{aligned}\n",
    "$$\n",
    "\n",
    "There are two points to note here:\n",
    "\n",
    "- The form of the expression above is exactly that of the posterior predictive mean of a noise-free Gaussian processes model.\n",
    "- One need not compute the full $N \\times M$ feature matrix $\\boldsymbol{\\Phi} \\left( \\mathbf{X} \\right)$ explictly to work out the $N \\times N$ matrix $\\mathbf{K}\\left( \\mathbf{X}, \\mathbf{X} \\right)$. \n",
    "\n",
    "This latter point is why this is called the *kernel trick*, i.e., for a very large number of features $M >> N$ (possibly infinite), it is more computationally efficient to work out $\\mathbf{K}$. \n",
    "\n",
    "Another way to interpret the kernel trick is to consider the example that was discussed in lecture with regards to the data in the plot below.  "
   ]
  },
  {
   "cell_type": "markdown",
   "id": "9b3fc60a",
   "metadata": {},
   "source": [
    "#### A lifting analogy\n",
    "\n",
    "Consider a quadratic kernel in $\\mathbb{R}^{2}$, where $\\mathbf{x} = \\left(x_1, x_2 \\right)^{T}$ and $\\mathbf{v} = \\left(v_1, v_2 \\right)^{T}$. We can express this kernel as\n",
    "$$\n",
    "\\begin{aligned}\n",
    "k \\left( \\mathbf{x}, \\mathbf{v} \\right) =  \\left( \\mathbf{x}^{T}  \\mathbf{v} \\right)^2 & = \\left( \\left[\\begin{array}{cc}\n",
    "x_{1} & x_{2}\\end{array}\\right]\\left[\\begin{array}{c}\n",
    "v_{1}\\\\\n",
    "v_{2}\n",
    "\\end{array}\\right] \\right)^2  \\\\\n",
    "& = \\left( x_1^2 v_1^2 + 2 x_1 x_2 v_1 v_2 + x_2^2 v_2^2\\right) \\\\\n",
    "& = \\left[\\begin{array}{ccc}\n",
    "x^2_{1} & \\sqrt{2} x_1 x_2 & x_2^2 \\end{array}\\right]\\left[\\begin{array}{c}\n",
    "v_{1}^2\\\\\n",
    "\\sqrt{2}v_1 v_2 \\\\\n",
    "v_{2}^2 \n",
    "\\end{array}\\right] \\\\\n",
    "& = \\phi \\left( \\mathbf{x} \\right)^{T} \\phi \\left( \\mathbf{v}  \\right).\n",
    "\\end{aligned}\n",
    "$$\n",
    "where $\\phi \\left( \\cdot \\right) \\in \\mathbb{R}^{3}$. \n",
    "\n",
    "Now lets tabulate the number of operations required depending on which route one takes. Computing $\\left( \\mathbf{x}^{T}  \\mathbf{v} \\right)^2$ requires two multiplications (i.e., $x_1 \\times v_1$ and $x_2 \\times v_2$), one sum (i.e., $s = x_1 v_1 + x_2 v_2$), and one product (i.e., $s^2$). This leads to a total of four operations. \n",
    "\n",
    "Now consider the number of operations required for computing $ \\phi \\left( \\mathbf{x} \\right)^{T} \\phi \\left( \\mathbf{v}  \\right)$. Assembling $\\phi \\left( \\mathbf{x} \\right)$ itself requires three products; multiplying by $\\phi \\left( \\mathbf{v} \\right)$ incurs another three products leading to a total of 10 operations (9 multiplications and one sum). Thus, computationally, it is cheaper to use the original form for calculating the product.\n",
    "\n",
    "There is however another perspective to this. Data that is not linearly separable in $\\mathbb{R}^{2}$ can be *lifted* up to $\\mathbb{R}^{3}$ where a separation may be more easily inferred. In this particular case, $\\phi \\left( \\mathbf{x} \\right)$ takes the form of a polynomial kernel. \n"
   ]
  },
  {
   "cell_type": "markdown",
   "id": "6b595f9c",
   "metadata": {},
   "source": [
    "To visualize this consider a red and green set of random points within a circle. Points that have a relatively greater radius are shown in red, whilst points that are closer to the center are captured in green. "
   ]
  },
  {
   "cell_type": "code",
   "execution_count": 53,
   "id": "d198e366",
   "metadata": {},
   "outputs": [],
   "source": [
    "t = np.random.rand(40,1)* 2 * np.pi\n",
    "r = np.random.rand(40,1)*0.2 + 2\n",
    "u = r * np.cos(t)\n",
    "v = r * np.sin(t)\n",
    "\n",
    "xy = np.vstack([np.random.rand(20,2)*2 - 1])\n",
    "xy2 = np.hstack([u, v])"
   ]
  },
  {
   "cell_type": "code",
   "execution_count": 54,
   "id": "4d43f5f7",
   "metadata": {},
   "outputs": [
    {
     "data": {
      "text/html": [
       "<iframe\n",
       "    scrolling=\"no\"\n",
       "    width=\"100%\"\n",
       "    height=\"545px\"\n",
       "    src=\"iframe_figures/figure_54.html\"\n",
       "    frameborder=\"0\"\n",
       "    allowfullscreen\n",
       "></iframe>\n"
      ]
     },
     "metadata": {},
     "output_type": "display_data"
    }
   ],
   "source": [
    "fig = go.Figure()\n",
    "fig.add_scatter(x=xy2[:,0], y=xy2[:,1],  name='Red', mode='markers', marker=dict(\n",
    "        size=15, color='red', opacity=0.8, line=dict(color='black', width=1) ))\n",
    "fig.add_scatter(x=xy[:,0], y=xy[:,1],  name='Green', mode='markers', marker=dict(\n",
    "        size=15, color='green', opacity=0.8, line=dict(color='black', width=1) ))\n",
    "fig.update_layout(legend=dict(yanchor=\"top\", y=0.99, xanchor=\"left\", x=0.01),\n",
    "                  xaxis_title=r'$\\mathbf{x}$',yaxis_title=r'$\\mathbf{v}$')\n",
    "\n",
    "fig.show()"
   ]
  },
  {
   "cell_type": "markdown",
   "id": "dba6d7c8",
   "metadata": {},
   "source": [
    "It is not possible to separate these two sets using a line (or more generally a hyperplane). However, when the same data is lifed to $\\mathbb{R}^{3}$, the two sets are linearly separable. "
   ]
  },
  {
   "cell_type": "code",
   "execution_count": 55,
   "id": "8147137f",
   "metadata": {},
   "outputs": [],
   "source": [
    "def mapup(xy):\n",
    "    phi_1 = xy[:,0]**2\n",
    "    phi_2 = np.sqrt(2) * xy[:,0] * xy[:,1]\n",
    "    phi_3 = xy[:,1]**2\n",
    "    return phi_1, phi_2, phi_3\n",
    "\n",
    "z1, z2, z3 = mapup(xy2)\n",
    "w1, w2, w3 = mapup(xy)"
   ]
  },
  {
   "cell_type": "code",
   "execution_count": 56,
   "id": "3f405ab0",
   "metadata": {},
   "outputs": [
    {
     "data": {
      "text/html": [
       "<iframe\n",
       "    scrolling=\"no\"\n",
       "    width=\"720px\"\n",
       "    height=\"545px\"\n",
       "    src=\"iframe_figures/figure_56.html\"\n",
       "    frameborder=\"0\"\n",
       "    allowfullscreen\n",
       "></iframe>\n"
      ]
     },
     "metadata": {},
     "output_type": "display_data"
    }
   ],
   "source": [
    "fig = go.Figure()\n",
    "fig.add_scatter3d(x=z1, y=z2, z=z3, name='Red', mode='markers', marker=dict(\n",
    "        size=10, color='red', opacity=0.8, line=dict(color='black', width=2) ))\n",
    "fig.add_scatter3d(x=w1, y=w2, z=w3, name='Green', mode='markers', marker=dict(\n",
    "        size=10, color='green', opacity=0.8, line=dict(color='black', width=2) ))\n",
    "fig.update_layout(legend=dict(yanchor=\"top\", y=0.99, xanchor=\"left\", x=0.01),\n",
    "                  scene = dict(\n",
    "                    xaxis_title=r'$\\phi_{1}$',\n",
    "                    yaxis_title=r'$\\phi_2$',\n",
    "                    zaxis_title=r'$\\phi_3$'),\n",
    "                    width=700,\n",
    "                    margin=dict(r=20, b=10, l=10, t=10))\n",
    "\n",
    "fig.show()"
   ]
  },
  {
   "cell_type": "markdown",
   "id": "9e11afb7",
   "metadata": {},
   "source": [
    "### Mercer's theorem (kernels $\\rightarrow$ feature maps)\n",
    "\n",
    "Now, we shall be interested in mapping from a kernel to a feature map. This leads us to **Mercer's theorem**, which states that: *A symmetric function $k \\left( \\mathbf{x}, \\mathbf{x}' \\right)$  can be expressed as the inner product*\n",
    "\n",
    "$$\n",
    "k \\left( \\mathbf{x}, \\mathbf{x}' \\right) = \\phi \\left( \\mathbf{x} \\right) \\phi^{T} \\left( \\mathbf{x}'\\right) = \\left\\langle \\phi \\left( \\mathbf{x} \\right), \\phi\\left( \\mathbf{x}' \\right) \\right\\rangle \n",
    "$$\n",
    "\n",
    "for some feature map $\\phi$ if and only if $k \\left( \\mathbf{x}, \\mathbf{x}' \\right)$ is positive semidefinite, i.e.,\n",
    "\n",
    "$$\n",
    "\\int k \\left( \\mathbf{x}, \\mathbf{x}' \\right) g \\left(  \\mathbf{x} \\right)  g \\left(  \\mathbf{x}' \\right) d \\mathbf{x} d \\mathbf{x}' \\geq 0 \n",
    "$$\n",
    "\n",
    "for all $g$. Another way to equivalent express this is the matrix $\\mathbf{K}\\left( \\mathbf{X}, \\mathbf{X}' \\right)$ is positive semi-definite for any collection of $\\mathbf{X}$. One can therefore write its eigendecomposition\n",
    "\n",
    "$$\n",
    "\\mathbf{K} = \\mathbf{V} \\boldsymbol{\\Lambda} \\mathbf{V}^{T}\n",
    "$$\n",
    "\n",
    "where $\\mathbf{V}$ is a matrix of formed by the eigenvectors of $\\mathbf{K}$ and $\\boldsymbol{\\Lambda}$ is a diagonal matrix of its eigenvalues, i.e.,\n",
    "\n",
    "$$\n",
    "\\mathbf{V} = \\left[\\begin{array}{cccc}\n",
    "| & | &  & |\\\\\n",
    "\\mathbf{v}_{1} & \\mathbf{v}_{2} & \\ldots & \\mathbf{v}_{N}\\\\\n",
    "| & | &  & |\n",
    "\\end{array}\\right], \\; \\; \\; \\; \\textrm{and} \\; \\; \\; \\; \\boldsymbol{\\Lambda}=\\left[\\begin{array}{cccc}\n",
    "\\lambda_{1}\\\\\n",
    " & \\lambda_{2}\\\\\n",
    " &  & \\ddots\\\\\n",
    " &  &  & \\lambda_{N}\n",
    "\\end{array}\\right],\n",
    "$$\n",
    "\n",
    "where $\\lambda_1 \\leq \\lambda_2 \\geq \\ldots \\lambda_{N} \\geq 0$. This expansion permits one to express each element of $\\mathbf{K}$ as\n",
    "\n",
    "$$\n",
    "\\mathbf{K}_{ij} = \\left( \\sqrt{\\lambda_{i}} \\mathbf{v}_{i} \\right)^{T} \\left(  \\sqrt{\\lambda_{j}} \\mathbf{v}_{j}\\right). \n",
    "$$\n",
    "\n",
    "More generally, if we define eigenfunctions of the form $\\gamma \\left( \\mathbf{x} \\right) = \\sqrt{\\lambda} \\mathbf{v}$, then we have\n",
    "\n",
    "$$\n",
    "k \\left( \\mathbf{x}, \\mathbf{x}' \\right) = \\gamma \\left( \\mathbf{x} \\right)^{T} \\gamma \\left( \\mathbf{x} \\right). \n",
    "$$\n",
    "\n",
    "To summarize, what Mercer's theorem tells us is that one can either map from \n",
    "\n",
    "$$\n",
    "\\mathbf{x} \\rightarrow \\phi \\left( \\mathbf{x} \\right) \\rightarrow k \\left( \\mathbf{x}, \\mathbf{x}' \\right)$$\n",
    "\n",
    "explciitly, or implicitly go from \n",
    "\n",
    "$$\n",
    "\\mathbf{x} \\rightarrow k \\left( \\mathbf{x}, \\mathbf{x}' \\right)\n",
    "$$\n",
    "\n",
    "without knowledge of the feature map $\\phi$."
   ]
  },
  {
   "cell_type": "markdown",
   "id": "548ff076",
   "metadata": {},
   "source": [
    "#### The case of infinitely many feature vectors\n",
    "\n",
    "We shall now briefly consider the case of regression with infinitely many functions. Consider a basis function of the form\n",
    "\n",
    "$$\n",
    "\\boldsymbol{\\Phi}\\left( \\mathbf{x} \\right) = \\left[\\begin{array}{cccc}\n",
    "\\phi_{1}\\left(\\mathbf{x} \\right), & \\phi_{2}\\left(\\mathbf{x} \\right), & \\ldots, & \\phi_{\\infty}\\left(\\mathbf{x} \\right)\\end{array}\\right]\n",
    "$$\n",
    "\n",
    "where \n",
    "\n",
    "$$\n",
    "\\phi_{j}\\left( \\mathbf{x} \\right) = exp \\left( - \\frac{\\left( \\mathbf{x} - c_j \\right)^2 }{2l^2} \\right)\n",
    "$$\n",
    "\n",
    "where $c_j$ represents the center of the bell-shaped basis function; we assume that there are infinitely many centers across the domain of interest and thus there exists infinitely many basis terms. To visualize this, see the code below."
   ]
  },
  {
   "cell_type": "code",
   "execution_count": 72,
   "id": "2698be56",
   "metadata": {},
   "outputs": [
    {
     "data": {
      "text/html": [
       "<iframe\n",
       "    scrolling=\"no\"\n",
       "    width=\"100%\"\n",
       "    height=\"545px\"\n",
       "    src=\"iframe_figures/figure_72.html\"\n",
       "    frameborder=\"0\"\n",
       "    allowfullscreen\n",
       "></iframe>\n"
      ]
     },
     "metadata": {},
     "output_type": "display_data"
    }
   ],
   "source": [
    "x = np.linspace(-5, 5, 150)\n",
    "infty_subtitute = 20\n",
    "c_js = np.linspace(-5, 5, infty_subtitute)\n",
    "l = 0.5\n",
    "\n",
    "fig = go.Figure()\n",
    "for j in range(0, infty_subtitute):\n",
    "    leg = 'c_j = '+str(np.around(c_js[j], 2))\n",
    "    psi_j = np.exp(- (x - c_js[j])**2 * 1./(2*l**2))\n",
    "    fig.add_scatter(x=x, y=psi_j, mode='lines', name=leg)\n",
    "    fig.update_layout(legend=dict(yanchor=\"top\", y=0.99, xanchor=\"left\", x=-0.6),\n",
    "                  xaxis_title=r'$x$',yaxis_title=r'$\\phi\\left( x \\right)$')\n",
    "fig.show()"
   ]
  },
  {
   "cell_type": "markdown",
   "id": "b941b84d",
   "metadata": {},
   "source": [
    "The two-point covariance matrix can be written as a sum of rank-one matrices, i.e.,\n",
    "\n",
    "$$\n",
    "\\begin{aligned}\n",
    "\\mathbf{K} & = \\boldsymbol{\\Phi}\\left( \\mathbf{x} \\right)\\boldsymbol{\\Phi}^{T} \\left( \\mathbf{X} \\right) \\\\\n",
    "& = \\sum_{j=1}^{\\infty} \\phi_{j}\\left( \\mathbf{X} \\right) \\phi_{j}^{T}\\left( \\mathbf{X}' \\right) \n",
    "\\end{aligned}\n",
    "$$\n",
    "\n",
    "or if one is considering each kernel entry, one can write\n",
    "\n",
    "$$\n",
    "\\begin{aligned}\n",
    "\\mathbf{K}_{ij}  & = k \\left( \\mathbf{x}_i, \\mathbf{x}_j \\right)\\\\\n",
    "& = \\boldsymbol{\\Phi}\\left( \\mathbf{x}_i \\right)\\boldsymbol{\\Phi}^{T} \\left( \\mathbf{x}_j \\right) \\\\\n",
    "& = \\sum_{p=1}^{\\infty} \\phi_{p}\\left( \\mathbf{x}_i \\right) \\phi_{p}\\left( \\mathbf{x}_j \\right) \n",
    "\\end{aligned}\n",
    "$$\n",
    "\n",
    "This last expression can be conveniently replaced with an integral (see RW page 84).\n",
    "\n",
    "$$\n",
    "k \\left( \\mathbf{x}_i, \\mathbf{x}_j \\right)  = \\int_{\\mathcal{X}} exp \\left( - \\frac{\\left( \\mathbf{x}_i - c \\right)^2 }{2l^2} \\right)exp \\left( - \\frac{\\left( \\mathbf{x}_j - c \\right)^2 }{2l^2} \\right)dc\n",
    "$$\n",
    "\n",
    "where we will assume that $\\mathcal{X} \\subset [-\\infty, \\infty]$. This leads to \n",
    "\n",
    "$$\n",
    "\\begin{aligned}\n",
    "k \\left( \\mathbf{x}_i, \\mathbf{x}_j \\right) & = \\int_{-\\infty}^{\\infty} exp \\left( - \\frac{\\left( \\mathbf{x}_i - c \\right)^2 }{2l^2} \\right)exp \\left( - \\frac{\\left( \\mathbf{x}_j - c \\right)^2 }{2l^2} \\right)dc \\\\\n",
    "& = \\sqrt{\\pi}l \\; exp \\left( - \\frac{\\left(\\mathbf{x}_i - \\mathbf{x}_j\\right)^2 }{2 \\left( \\sqrt{2} \\right) l^2 } \\right).\n",
    "\\end{aligned}\n",
    "$$\n",
    "\n",
    "The last expression is easily recognizable as an RBF kernel with an amplitude of $\\sqrt{\\pi}l$ and a slightly amended length scale of $\\sqrt{2}l^2$. It is straightforward to adapt this to multivariate $\\mathbf{x}$. \n",
    "\n",
    "<mark>Note the utility of this representation---we essentially have infinitely many basis terms, but the size of our covariance matrix is driven by the number of data points</mark>"
   ]
  },
  {
   "cell_type": "markdown",
   "id": "047f00ec",
   "metadata": {},
   "source": [
    "### Bochner's theorem\n",
    "\n",
    "A stationary function $k \\left( \\mathbf{x}, \\mathbf{x}' \\right) =k \\left( \\mathbf{x} - \\mathbf{x}' \\right) = k \\left( \\boldsymbol{\\tau} \\right) $ can be represented as the Fourier transform of a positive finite measure. The formal statement is given by\n",
    "\n",
    "*A complex-valued function $k$ on $\\mathcal{X}$ is the covariance function of a weakly stationary mean square continuous complex-valued random process on $\\mathcal{X}$ if and only if it can be represented as*\n",
    "\n",
    "$$\n",
    "k \\left( \\boldsymbol{\\tau} \\right) = \\int_{\\mathcal{X}} exp \\left( 2 \\pi i \\boldsymbol{\\omega} \\cdot \\boldsymbol{\\tau} \\right) d \\mu \\left( \\boldsymbol{\\omega} \\right) \n",
    "$$\n",
    "\n",
    "where $\\mu$ is a positive finite measure, and $\\boldsymbol{\\omega}$ are the frequencies. If $\\mu$ has a density $S \\left( \\boldsymbol{\\omega} \\right)$, then $S$ is the **spectral density** or **power spectrum** associated with the kernel $k$. "
   ]
  },
  {
   "cell_type": "markdown",
   "id": "52c51866",
   "metadata": {},
   "source": [
    "### Wiener-Khintchine theorem\n",
    "\n",
    "A direct consequence of Bochner's theoreom is the Wiener-Khintchine theorem. If the spectral density $S \\left( \\boldsymbol{\\omega} \\right)$ exists, the spectral density and the covariance function are said to be *Fourier duals*. This leads to the following statement:\n",
    "\n",
    "$$\n",
    "k \\left( \\boldsymbol{\\tau} \\right) = \\int S \\left( \\boldsymbol{\\omega} \\right) exp \\left( 2 \\pi i \\boldsymbol{\\omega} \\cdot \\boldsymbol{\\tau} \\right) d \\boldsymbol{\\omega}, \\; \\; \\; \\; S \\left( \\boldsymbol{\\omega}\\right) = \\int k \\left( \\boldsymbol{\\tau} \\right) exp\\left(- 2 \\pi i \\boldsymbol{\\omega} \\cdot \\boldsymbol{\\tau} \\right) d \\boldsymbol{\\tau}\n",
    "$$\n",
    "\n",
    "\n",
    "As noted in RW, $S \\left( \\boldsymbol{\\omega} \\right)$ is essentially the amount of power assigned to the eigenfunction $exp \\left( 2 \\pi i \\boldsymbol{\\omega} \\cdot \\mathbf{\\tau} \\right)$ with frequency $\\boldsymbol{\\omega}$. The amplitude as a function of frequency $S\\left( \\boldsymbol{\\omega} \\right)$ must decay sufficiently fast so that the terms above are integrable. \n",
    "\n",
    "There are some important points to note:\n",
    "\n",
    "1. If we have a stationary kernel, we can resolve what frequencies underscore the model by working out its Fourier transform.\n",
    "2. On the other hand, if we have a certain spectral density of interest, then its inverse Fourier transform is a kernel. "
   ]
  },
  {
   "cell_type": "markdown",
   "id": "8e0577d3",
   "metadata": {},
   "source": [
    "To analytically work this out, it may be useful to go through an example (courtsey of Markus Heinonen). The derivation below will require three pieces:\n",
    "- We shall assume a symmetric frequency distribution, i.e., $S\\left( \\boldsymbol{\\omega} \\right) = S \\left( -\\boldsymbol{\\omega} \\right)$. \n",
    "- From Euler's formula we have $cos\\left(x\\right) \\pm i sin\\left(x \\right) = exp \\left(\\pm ix \\right)$\n",
    "- The negative sine identity, i.e., $sin \\left( -x \\right) = - sin \\left( x \\right)$\n",
    "\n",
    "\n",
    "Starting with the expression above, we begin wtih\n",
    "\n",
    "$$\n",
    "\\begin{aligned}\n",
    "k \\left( \\boldsymbol{\\tau} \\right) & = \\int_{-\\infty}^{\\infty} S \\left( \\boldsymbol{\\omega} \\right) exp \\left( 2 \\pi i \\boldsymbol{\\omega} \\cdot \\boldsymbol{\\tau} \\right) d \\boldsymbol{\\omega} \\\\\n",
    "& =   \\int_{-\\infty}^{\\infty} S \\left(\\boldsymbol{\\omega} \\right) cos \\left( 2 \\pi\\boldsymbol{\\tau} \\cdot \\boldsymbol{\\omega} \\right) d \\boldsymbol{\\omega} + \\int_{-\\infty}^{\\infty} iS \\left(\\boldsymbol{\\omega} \\right) sin \\left( 2 \\pi \\boldsymbol{\\tau} \\cdot \\boldsymbol{\\omega} \\right) d \\boldsymbol{\\omega} \\\\\n",
    "& = \\mathbb{E}\\left[ S \\left(\\omega \\right) \\right] cos \\left( 2 \\pi \\boldsymbol{\\tau} \\cdot \\boldsymbol{\\omega} \\right)  + \\int_{-\\infty}^{0} iS \\left(\\boldsymbol{\\omega} \\right) sin \\left( 2 \\pi \\boldsymbol{\\tau} \\cdot \\boldsymbol{\\omega} \\right) d \\boldsymbol{\\omega} + \\int_{0}^{\\infty} iS \\left(\\boldsymbol{\\omega} \\right) sin \\left( 2 \\pi \\boldsymbol{\\tau} \\cdot \\boldsymbol{\\omega} \\right) d \\boldsymbol{\\omega} \\\\\n",
    "& = \\mathbb{E}\\left[ S \\left(\\omega \\right) \\right] cos \\left( 2 \\pi \\boldsymbol{\\tau} \\cdot \\boldsymbol{\\omega} \\right)  + \\int_{0}^{\\infty} iS \\left(-\\boldsymbol{\\omega} \\right) sin \\left( -2 \\pi \\boldsymbol{\\tau} \\cdot \\boldsymbol{\\omega} \\right) d \\boldsymbol{\\omega} + \\int_{0}^{\\infty} iS \\left(\\boldsymbol{\\omega} \\right) sin \\left( 2 \\pi \\boldsymbol{\\tau} \\cdot \\boldsymbol{\\omega} \\right) d \\boldsymbol{\\omega} \\\\\n",
    "& = \\mathbb{E}\\left[ S \\left(\\omega \\right) \\right] cos \\left( 2 \\pi \\boldsymbol{\\tau} \\cdot \\boldsymbol{\\omega} \\right)  + \\int_{0}^{\\infty} -iS \\left(\\boldsymbol{\\omega} \\right) sin \\left( 2 \\pi \\boldsymbol{\\tau} \\cdot \\boldsymbol{\\omega} \\right) d \\boldsymbol{\\omega} + \\int_{0}^{\\infty} iS \\left(\\boldsymbol{\\omega} \\right) sin \\left( 2 \\pi \\boldsymbol{\\tau} \\cdot \\boldsymbol{\\omega} \\right) d \\boldsymbol{\\omega} \\\\\n",
    "\\end{aligned}\n",
    "$$\n",
    "\n",
    "This leads to \n",
    "\n",
    "$$\n",
    "\\begin{aligned}\n",
    "k \\left( \\boldsymbol{\\tau} \\right) & = \\mathbb{E}\\left[ S \\left(\\omega \\right) \\right] cos \\left( 2 \\pi \\boldsymbol{\\tau} \\cdot \\boldsymbol{\\omega} \\right)   \n",
    "\\end{aligned}\n",
    "$$\n",
    "\n",
    "<mark>This demonstrates that all real-valued stationary kernels are $S\\left( \\boldsymbol{\\omega} \\right)$-weighted combinations of cosine terms. </mark>"
   ]
  },
  {
   "cell_type": "markdown",
   "id": "1c4eb6f3",
   "metadata": {},
   "source": [
    "### Kernel harmonic representation\n",
    "\n",
    "Our new general stationary kernel definition is thus:\n",
    "\n",
    "$$\n",
    "k \\left( \\boldsymbol{\\tau} \\right)  = \\mathbb{E}\\left[ S \\left(\\omega \\right) \\right] cos \\left( 2 \\pi \\boldsymbol{\\tau} \\cdot \\boldsymbol{\\omega} \\right)   \n",
    "$$\n",
    "    \n",
    "where the frequencies $\\boldsymbol{\\omega}$ are an inverse of the period $1/\\boldsymbol{\\omega}$. Bracewell provides the following expressions for the Wiener-Khintchine result, by integrating out the angular variables (see page 83 of RW):\n",
    "\n",
    "$$\n",
    "\\begin{aligned}\n",
    "k \\left( \\boldsymbol{\\tau} \\right) & = \\frac{2 \\pi}{\\boldsymbol{\\tau}^{-1/2}} \\int_{0}^{\\infty} S \\left( \\boldsymbol{\\omega} \\right) J_{-1/2} \\left(2 \\pi  \\boldsymbol{\\tau} \\cdot \\boldsymbol{\\omega} \\right) \\boldsymbol{\\omega}^{1/2} d \\boldsymbol{\\omega} \\\\\n",
    "S \\left(   \\boldsymbol{\\omega} \\right) & = \\frac{2 \\pi}{\\boldsymbol{\\omega}^{-1/2}} \\int_{0}^{\\infty} k \\left( \\boldsymbol{\\tau} \\right) J_{-1/2} \\left(2 \\pi  \\boldsymbol{\\tau} \\cdot \\boldsymbol{\\omega} \\right) \\boldsymbol{\\tau}^{1/2} d \\boldsymbol{\\tau}\n",
    "\\end{aligned}\n",
    "$$\n",
    "\n",
    "Note that in RW, the authors use $D$ to denote the dimensionality, which we have assumed to be 1. The function $J_{-1/2}$ is the Bessel function of order $-1/2$. While the expressions above may seem unwiedly, we can work out what these are using a bit of ``Sympy``. Consider the case of a squared exponential kernel of the form\n",
    "\n",
    "$$\n",
    "k \\left(\\boldsymbol{\\tau} \\right) = exp \\left(- \\frac{\\boldsymbol{\\tau}^2}{2l^2} \\right).\n",
    "$$"
   ]
  },
  {
   "cell_type": "code",
   "execution_count": 126,
   "id": "21baaa1f",
   "metadata": {},
   "outputs": [
    {
     "data": {
      "image/png": "[encoded data removed]",
      "text/latex": [
       "$\\displaystyle \\begin{cases} 1.4142135623731 \\pi^{0.5} l^{1.0} e^{- 2 \\pi^{2} l^{2} \\omega^{2}} & \\text{for}\\: \\left(\\left|{\\arg{\\left(\\omega \\right)}}\\right| = 0 \\wedge \\left|{\\arg{\\left(l \\right)}}\\right| < \\frac{\\pi}{4}\\right) \\vee \\left|{\\arg{\\left(l \\right)}}\\right| < \\frac{\\pi}{4} \\\\\\int\\limits_{0}^{\\infty} 2 \\pi \\omega^{0.5} \\tau^{0.5} e^{- \\frac{\\tau^{2}}{2 l^{2}}} J_{-0.5}\\left(2 \\pi \\omega \\tau\\right)\\, d\\tau & \\text{otherwise} \\end{cases}$"
      ],
      "text/plain": [
       "⎧                                   2  2  2                                                       \n",
       "⎪                     0.5  1.0  -2⋅π ⋅l ⋅ω            ⎛                          π⎞              π\n",
       "⎪    1.4142135623731⋅π   ⋅l   ⋅ℯ                  for ⎜│arg(ω)│ = 0 ∧ │arg(l)│ < ─⎟ ∨ │arg(l)│ < ─\n",
       "⎪                                                     ⎝                          4⎠              4\n",
       "⎪                                                                                                 \n",
       "⎪∞                                                                                                \n",
       "⎪⌠                                                                                                \n",
       "⎨⎮                  2                                                                             \n",
       "⎪⎮                -τ                                                                              \n",
       "⎪⎮                ────                                                                            \n",
       "⎪⎮                   2                                                                            \n",
       "⎪⎮      0.5  0.5  2⋅l                                                                             \n",
       "⎪⎮ 2⋅π⋅ω   ⋅τ   ⋅ℯ    ⋅besselj(-0.5, 2⋅π⋅ω⋅τ) dτ                     otherwise                    \n",
       "⎪⌡                                                                                                \n",
       "⎩0                                                                                                "
      ]
     },
     "execution_count": 126,
     "metadata": {},
     "output_type": "execute_result"
    }
   ],
   "source": [
    "from sympy import * \n",
    "\n",
    "omega = Symbol(\"omega\")\n",
    "ell = Symbol(\"l\")\n",
    "tau = Symbol(\"tau\")\n",
    "\n",
    "kernel = exp(- tau**2 / (2 * ell**2))\n",
    "integrate(2*pi*omega**(1/2) * kernel * besselj(-1/2, 2*pi*tau*omega)*tau**(1/2), (tau, 0, oo))"
   ]
  },
  {
   "cell_type": "markdown",
   "id": "aeb0a122",
   "metadata": {},
   "source": [
    "The first expression above is the Fourier amplitude of the squared exponential kernel, i.e.,\n",
    "\n",
    "$$\n",
    "S \\left(   \\boldsymbol{\\omega} \\right) = \\left( 2 \\pi l^2\\right)^{1/2} exp \\left( - 2 \\pi l^2 \\boldsymbol{\\omega}^2 \\right)\n",
    "$$\n"
   ]
  },
  {
   "cell_type": "code",
   "execution_count": 143,
   "id": "d716339f",
   "metadata": {},
   "outputs": [
    {
     "data": {
      "text/html": [
       "<iframe\n",
       "    scrolling=\"no\"\n",
       "    width=\"100%\"\n",
       "    height=\"545px\"\n",
       "    src=\"iframe_figures/figure_143.html\"\n",
       "    frameborder=\"0\"\n",
       "    allowfullscreen\n",
       "></iframe>\n"
      ]
     },
     "metadata": {},
     "output_type": "display_data"
    }
   ],
   "source": [
    "omega = np.linspace(0, np.pi/4, 50)\n",
    "l = 0.5\n",
    "S_omega = (2 * np.pi * l**2)**(1/2) * \\\n",
    "            np.exp(- 2 * np.pi * l**2 * omega**2)\n",
    "tau = np.linspace(0, 10, 200)\n",
    "\n",
    "\n",
    "fig = go.Figure()\n",
    "fig.add_scatter(x=omega, y=S_omega, mode='lines')\n",
    "fig.update_layout(title='Spectral density', \\\n",
    "                  xaxis_title=r'Frequency, $\\omega$',\\\n",
    "                  yaxis_title=r'Spectral density, $S\\left( \\omega \\right) $')\n",
    "fig.show()"
   ]
  },
  {
   "cell_type": "code",
   "execution_count": 152,
   "id": "9759fdb8",
   "metadata": {},
   "outputs": [
    {
     "data": {
      "text/html": [
       "<iframe\n",
       "    scrolling=\"no\"\n",
       "    width=\"100%\"\n",
       "    height=\"545px\"\n",
       "    src=\"iframe_figures/figure_152.html\"\n",
       "    frameborder=\"0\"\n",
       "    allowfullscreen\n",
       "></iframe>\n"
      ]
     },
     "metadata": {},
     "output_type": "display_data"
    }
   ],
   "source": [
    "kernel = tau * 0.\n",
    "true_kernel = np.exp(-tau**2 / l**2)\n",
    "counter = 0.\n",
    "\n",
    "fig = go.Figure()\n",
    "for omega_j in omega:\n",
    "    counter += 1.\n",
    "    label=str(np.around(int(counter), 1))+' terms'\n",
    "    S_omega_j = (2 * np.pi * l**2)**(1/2) * \\\n",
    "            np.exp(- 2 * np.pi * l**2 * omega_j**2)\n",
    "    cos_term = np.cos(2 * np.pi * tau * omega_j)\n",
    "    kernel += (S_omega_j * cos_term)\n",
    "    fig.add_scatter(x=tau, y=kernel * 1/counter, name=label, mode='lines')\n",
    "fig.add_scatter(x=tau, y=true_kernel, name='Kernel', mode='lines', \\\n",
    "                line=dict(width=4, color='black'))\n",
    "fig.update_layout(title='Sq. exp kernel Fourier representation', \\\n",
    "                  xaxis_title=r'Distance, $\\tau$',\\\n",
    "                  yaxis_title=r'$k ( \\tau )$')\n",
    "fig.show()"
   ]
  },
  {
   "cell_type": "markdown",
   "id": "ddd8634f",
   "metadata": {},
   "source": [
    "Notice that the more terms we incorporate, the closer we converge to the true kernel. "
   ]
  },
  {
   "cell_type": "markdown",
   "id": "01a6e98f",
   "metadata": {},
   "source": [
    "### References\n",
    "\n",
    "These notes use material from the following sources:\n",
    "    \n",
    "1. [Jordan, M., *The Kernel Trick*](https://people.eecs.berkeley.edu/~jordan/courses/281B-spring04/lectures/lec3.pdf)\n",
    "\n",
    "2. [Gundersen, G., *Implicit Lifting and the Kernel Trick*](https://gregorygundersen.com/blog/2019/12/10/kernel-trick/)"
   ]
  }
 ],
 "metadata": {
  "kernelspec": {
   "display_name": "Python 3 (ipykernel)",
   "language": "python",
   "name": "python3"
  },
  "language_info": {
   "codemirror_mode": {
    "name": "ipython",
    "version": 3
   },
   "file_extension": ".py",
   "mimetype": "text/x-python",
   "name": "python",
   "nbconvert_exporter": "python",
   "pygments_lexer": "ipython3",
   "version": "3.11.1"
  }
 },
 "nbformat": 4,
 "nbformat_minor": 5
}
