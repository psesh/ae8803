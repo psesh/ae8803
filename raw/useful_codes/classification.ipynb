{
 "cells": [
  {
   "cell_type": "raw",
   "id": "43f2d7de",
   "metadata": {},
   "source": [
    "---\n",
    "title: \"Classification\"\n",
    "format:\n",
    "    html:\n",
    "        code-fold: true\n",
    "jupyter: python3\n",
    "fontsize: 1.2em\n",
    "linestretch: 1.5\n",
    "toc: true\n",
    "notebook-view: true\n",
    "---"
   ]
  },
  {
   "cell_type": "code",
   "execution_count": 1,
   "id": "27ad99ae",
   "metadata": {},
   "outputs": [],
   "source": [
    "import numpy as np\n",
    "import matplotlib.pyplot as plt"
   ]
  },
  {
   "cell_type": "code",
   "execution_count": 5,
   "id": "e27b7018",
   "metadata": {},
   "outputs": [
    {
     "data": {
      "image/png": "[encoded data removed]",
      "text/plain": [
       "<Figure size 1000x300 with 1 Axes>"
      ]
     },
     "metadata": {},
     "output_type": "display_data"
    }
   ],
   "source": [
    "x = np.linspace(-5, 5, 100)\n",
    "y = 1. / (1 + np.exp(-x))\n",
    "\n",
    "fig = plt.figure(figsize=(10,3))\n",
    "plt.plot(x, y, '-', lw=3, color='crimson')\n",
    "plt.xlabel(r'$f$')\n",
    "plt.ylabel(r'$1/(1 + exp(-f))$')\n",
    "plt.ylim(0, 1)\n",
    "plt.savefig('sigmoid.png', dpi=150, bbox_inches='tight', transparent=True)\n",
    "plt.show()\n"
   ]
  },
  {
   "cell_type": "code",
   "execution_count": null,
   "id": "01c04ed9",
   "metadata": {},
   "outputs": [],
   "source": []
  },
  {
   "cell_type": "code",
   "execution_count": null,
   "id": "d5209d60",
   "metadata": {},
   "outputs": [],
   "source": []
  },
  {
   "cell_type": "code",
   "execution_count": null,
   "id": "38b09fbf",
   "metadata": {},
   "outputs": [],
   "source": []
  },
  {
   "cell_type": "code",
   "execution_count": null,
   "id": "1746a854",
   "metadata": {},
   "outputs": [],
   "source": []
  },
  {
   "cell_type": "code",
   "execution_count": null,
   "id": "b29e0b77",
   "metadata": {},
   "outputs": [],
   "source": []
  },
  {
   "cell_type": "code",
   "execution_count": null,
   "id": "ea662c4e",
   "metadata": {},
   "outputs": [],
   "source": [
    "import numpy as np\n",
    "\n",
    "# Squared Exponential Kernel\n",
    "def squared_exponential_kernel(X1, X2, lengthscale, variance):\n",
    "    sq_norm = np.sum((X1[:, None] - X2)**2, axis=2)  \n",
    "    return variance * np.exp(-sq_norm / (2 * lengthscale**2))\n",
    "\n",
    "# Gaussian Process Class\n",
    "class GaussianProcessClassifier:\n",
    "    def __init__(self, lengthscale=1.0, variance=1.0):\n",
    "        self.lengthscale = lengthscale\n",
    "        self.variance = variance\n",
    "\n",
    "    def fit(self, X, y):\n",
    "        self.X_train = X\n",
    "        self.y_train = y\n",
    "        K = squared_exponential_kernel(X, X, self.lengthscale, self.variance)\n",
    "        self.K = K + np.eye(len(X)) * 1e-8  # Add small noise for stability\n",
    "\n",
    "    def predict(self, X_test):\n",
    "        K_star = squared_exponential_kernel(X_test, self.X_train, self.lengthscale, self.variance)\n",
    "        K_starstar = squared_exponential_kernel(X_test, X_test, self.lengthscale, self.variance)\n",
    "\n",
    "        f_mean = K_star.T @ np.linalg.solve(self.K, self.y_train)\n",
    "        f_var = K_starstar - K_star.T @ np.linalg.solve(self.K, K_star)\n",
    "        # Approximate probabilities (not fully calibrated)\n",
    "        probs = 0.5 * (1 + scipy.special.erf(f_mean / np.sqrt(2 * (f_var + 1e-8))))\n",
    "        return probs\n",
    "\n",
    "# ... (Load your dataset into X and y)\n",
    "\n",
    "# Create the GP classifier\n",
    "gp_classifier = GaussianProcessClassifier(lengthscale=1.0, variance=1.0) \n",
    "\n",
    "# Train (fit) the model\n",
    "gp_classifier.fit(X, y)\n",
    "\n",
    "# Make predictions on new data\n",
    "predictions = gp_classifier.predict(X_test) \n"
   ]
  },
  {
   "cell_type": "code",
   "execution_count": null,
   "id": "461999ae",
   "metadata": {},
   "outputs": [],
   "source": []
  }
 ],
 "metadata": {
  "kernelspec": {
   "display_name": "Python 3 (ipykernel)",
   "language": "python",
   "name": "python3"
  },
  "language_info": {
   "codemirror_mode": {
    "name": "ipython",
    "version": 3
   },
   "file_extension": ".py",
   "mimetype": "text/x-python",
   "name": "python",
   "nbconvert_exporter": "python",
   "pygments_lexer": "ipython3",
   "version": "3.11.1"
  }
 },
 "nbformat": 4,
 "nbformat_minor": 5
}
