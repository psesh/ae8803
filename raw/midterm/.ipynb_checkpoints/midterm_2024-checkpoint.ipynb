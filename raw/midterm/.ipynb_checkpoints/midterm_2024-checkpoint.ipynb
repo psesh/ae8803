{
 "cells": [
  {
   "cell_type": "raw",
   "id": "448d2a23",
   "metadata": {},
   "source": [
    "---\n",
    "title: \"Midterm\"\n",
    "format:\n",
    "    html:\n",
    "        code-fold: true\n",
    "jupyter: python3\n",
    "fontsize: 1.2em\n",
    "linestretch: 1.5\n",
    "toc: true\n",
    "notebook-view: true\n",
    "---\n"
   ]
  },
  {
   "cell_type": "markdown",
   "id": "88a11166",
   "metadata": {},
   "source": [
    "## Instructions\n",
    "\n",
    "##### Due: Monday 19th February 2024 by 3:29 pm EST via Canvas\n",
    "\n",
    "Please do not attempt to copy from, or discuss the contents of this paper with,\n",
    "any of your classmates during the course of this midterm. Any such attempt, will be viewed as a violation of Georgia Tech's Honor Code, and this will result in a zero-point grade. You are not permitted to post any questions related to this midterm on the Ed Discussions page, Stackoverflow, any large language model (e.g., Chat GPT, Bard, etc.), social media, or any other discussion forum. Should there be any questions, please email me directly. The work you submit must be your own entirely. If you have utilized any resource (e.g., textbook, Wikipedia, lecture notes from another source) you must clearly state the source is and where you have used it. You must also do the same for the AE8803 lecture notes, e.g., when using the definition of the Binomial distribution, please state which lecture / slide number / and where you used it. \n",
    "\n",
    "For the questions below, the integer value in the brackets indicates the number of points assigned to a particular question. "
   ]
  },
  {
   "cell_type": "markdown",
   "id": "93da4689",
   "metadata": {},
   "source": [
    "## Problem 1 \n",
    "\n",
    "A drawer contains red socks and black socks. When two socks are drawn at random, the probability that both are red is $0.5$. \n",
    "\n",
    "- How small can the number of socks in the drawer be? \n",
    "\n",
    "- How small if the number of black socks is even? \n",
    "\n",
    "Total points: [6]"
   ]
  },
  {
   "cell_type": "code",
   "execution_count": 1,
   "id": "e4492d25",
   "metadata": {},
   "outputs": [],
   "source": [
    "# Your solution goes here (you can use latex, markdown, and/or python code)"
   ]
  },
  {
   "cell_type": "markdown",
   "id": "faba15ab",
   "metadata": {},
   "source": [
    "## Problem 2 \n",
    "\n",
    "Let $X$ and $Y$ be independent random variables. Also let $Z=X + Y$. \n",
    "\n",
    "(i) Using probability generating functions, show that if $X \\sim Binomial \\left(n, p \\right)$ and $Y \\sim Binomial \\left(m, p\\right)$, then $Z \\sim Binomial \\left(n+m, p \\right)$. [4]\n",
    "\n",
    "(ii) Assume that $X$ and $Y$ are continuous and their probability density functions are $f_{X}\\left( x\\right)$ and $f_{Y}\\left( y \\right)$ respectively. By considering the cumulative density function of $Z$ given $X$, or otherwise, show that the following holds [4]:\n",
    "\n",
    "$$\n",
    "f_{Z|X} \\left( z | x \\right) = f_{Y} \\left( z - x \\right)\n",
    "$$\n",
    "\n",
    "\n",
    "(iii) Derive the conditional probability density function of $X$, given that $Z=z$, when $X \\sim \\mathcal{N} \\left(0, 1\\right)$ and $Y \\sim \\mathcal{N} \\left(0, 1 \\right)$. [4]\n",
    "\n",
    "(iv) Compute the expectation of $1/\\left(Z + 1 \\right)$, when $X \\sim Poisson \\left( \\lambda \\right)$ and $Y \\sim Poisson \\left( \\lambda \\right)$ [4]. You may find [this Wikipedia page](https://en.wikipedia.org/wiki/Poisson_distribution) useful. [4]\n",
    "\n",
    "Total points: [16]"
   ]
  },
  {
   "cell_type": "code",
   "execution_count": 2,
   "id": "2b36426b",
   "metadata": {},
   "outputs": [],
   "source": [
    "# Your solution goes here (you can use latex, markdown, and/or python code)"
   ]
  },
  {
   "cell_type": "markdown",
   "id": "653e6998",
   "metadata": {},
   "source": [
    "## Problem 3\n",
    "\n",
    "A new test for a disease has been produced by a company. Trials revealed that if a test user has the disease, the test is positive with $95\\%$ probability. Similarly, if the user does not have the disease, the test is negative with $92 \\%$ probability. Approximately $1\\%$ of the opulation is suspected to have this disease. Compute the probabilities below:\n",
    "\n",
    "(i) The probability that a randomly chosen individual will test positive. [4]\n",
    "\n",
    "(ii) The probability that a randomly chosen individual who tests positive will have the disease. [4]\n",
    "\n",
    "Total points: [8] "
   ]
  },
  {
   "cell_type": "code",
   "execution_count": 3,
   "id": "7b71f073",
   "metadata": {},
   "outputs": [],
   "source": [
    "# Your solution goes here (you can use latex, markdown, and/or python code)"
   ]
  },
  {
   "cell_type": "markdown",
   "id": "dd427c52",
   "metadata": {},
   "source": [
    "## Problem 4\n",
    "\n",
    "In Lecture 8, we had studied a Bayesian model applied to the Olympic winning time dataset. A key modelling decision was what basis terms to incorporate within $\\mathbf{X}$ and relatedly, the number of unknown model parameters (determined by the number of columns in $\\mathbf{X}$). Now, you will re-visit this dataset, but with a few changes:\n",
    "\n",
    "i. Select a non-polynomial basis of your choice (e.g., harmonic, exponential, logarithmic, or even a combination thereof) to input in a *tall* $\\mathbf{X}$ to best match the data. [6]\n",
    "\n",
    "ii. Carefully select a multivariate normal prior $p \\left(\\mathbf{w} |  \\boldsymbol{\\mu}_{0}, \\boldsymbol{\\Sigma}_{0} \\right)$ for your new model parameters $\\mathbf{w}$. You are free to vary the above mean and covariance as you see best. [6]\n",
    "\n",
    "iii. Repeat (i) and (ii) for the case where the number of model parameters is greater than the number of data observations. You will have to alter your prior and $\\mathbf{X}$ across these two cases. You may also choose to subsample from the original dataset if that helps. [12]\n",
    "\n",
    "\n",
    "Please ensure that you provide executable code below, along with appropriate comments, to address the statements above. For your experiments, pay particular attention to the condition number of the matrix, and the assumed *observation noise*. \n",
    "\n",
    "Total points: [24]"
   ]
  },
  {
   "cell_type": "code",
   "execution_count": 4,
   "id": "20895bbb",
   "metadata": {},
   "outputs": [],
   "source": [
    "# Your solution goes here (you can use latex, markdown, and/or python code)"
   ]
  }
 ],
 "metadata": {
  "kernelspec": {
   "display_name": "Python 3 (ipykernel)",
   "language": "python",
   "name": "python3"
  },
  "language_info": {
   "codemirror_mode": {
    "name": "ipython",
    "version": 3
   },
   "file_extension": ".py",
   "mimetype": "text/x-python",
   "name": "python",
   "nbconvert_exporter": "python",
   "pygments_lexer": "ipython3",
   "version": "3.11.1"
  }
 },
 "nbformat": 4,
 "nbformat_minor": 5
}
