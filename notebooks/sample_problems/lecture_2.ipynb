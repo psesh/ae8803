{
 "cells": [
  {
   "cell_type": "raw",
   "id": "3b2f07f0",
   "metadata": {},
   "source": [
    "---\n",
    "title: \"L2 examples\"\n",
    "format:\n",
    "    html:\n",
    "        code-fold: true\n",
    "jupyter: python3\n",
    "fontsize: 1.2em\n",
    "linestretch: 1.5\n",
    "toc: true\n",
    "notebook-view: true\n",
    "---"
   ]
  },
  {
   "cell_type": "markdown",
   "id": "d4ff30f9",
   "metadata": {},
   "source": [
    "## Problem 1\n",
    "\n",
    "Commercial airline pilots need to pass four out of five separate tests for certification. Assume that the tests are equally difficult, and that the performance on separate tests are independent.\n",
    "\n",
    "a. If the probability of failing each separate test is $p=0.2$, then what is the probability of failing certification?\n",
    "\n",
    "b. To improve safety, more stringent regulations require that pilots pass all five tests. To be able to meet the demand, the individual tests are made easier. What should the new individual failure rate be if the overall certification probability is to remain unchanged?\n"
   ]
  },
  {
   "cell_type": "markdown",
   "id": "6801382a",
   "metadata": {},
   "source": [
    "<details>\n",
    "<summary>Solution</summary> \n",
    "    \n",
    "a. Given that each test is independent, the combined probabilities follow a Binomial distribution. A pilot will fail certification if they fail two or more tests, and they will pass if they fail zero or one of the individual tests. Thus, the probability of passing certification is\n",
    "\n",
    "$$\n",
    "\\large\n",
    "p_{pass} = \\left(\\begin{array}{c}\n",
    "5\\\\\n",
    "0\n",
    "\\end{array}\\right) p^{0} \\left( 1 - p \\right)^{5} + \\left(\\begin{array}{c}\n",
    "5\\\\\n",
    "1\n",
    "\\end{array}\\right)p^{1} \\left( 1 - p \\right)^{4}\n",
    "$$\n",
    "\n",
    "From the code snippet below this is roughly 0.737. Thus the combined failure rate is $1 - 0.7373 = 0.2627$. \n",
    "\n",
    "\n",
    "b. Under the new certification protocol, as there is no possibility of failing a test, we have\n",
    "\n",
    "$$\n",
    "\\large\n",
    "\\left(1 - p_{fail, new} \\right)^{5} = 1 - 0.2627 \\Rightarrow p_{fail, new} = 0.06\n",
    "$$\n",
    "    \n",
    "</details>"
   ]
  },
  {
   "cell_type": "code",
   "execution_count": 9,
   "id": "12009128",
   "metadata": {},
   "outputs": [
    {
     "name": "stdout",
     "output_type": "stream",
     "text": [
      "0.26271999999999984\n",
      "0.059136781980261066\n"
     ]
    }
   ],
   "source": [
    "from scipy.special import comb\n",
    "import numpy as np\n",
    "\n",
    "# part a.\n",
    "p = 0.2\n",
    "p_pass = comb(5, 0) * p**0 * (1 - p)**5 + comb(5, 1) * p**1 * (1 - p)**4\n",
    "p_fail = 1 - p_pass\n",
    "print(p_fail)\n",
    "\n",
    "# part b.\n",
    "p_fail_new = 1 - (1 - p_fail)**(1/5)\n",
    "print(p_fail_new)"
   ]
  }
 ],
 "metadata": {
  "kernelspec": {
   "display_name": "Python 3 (ipykernel)",
   "language": "python",
   "name": "python3"
  },
  "language_info": {
   "codemirror_mode": {
    "name": "ipython",
    "version": 3
   },
   "file_extension": ".py",
   "mimetype": "text/x-python",
   "name": "python",
   "nbconvert_exporter": "python",
   "pygments_lexer": "ipython3",
   "version": "3.11.1"
  }
 },
 "nbformat": 4,
 "nbformat_minor": 5
}
